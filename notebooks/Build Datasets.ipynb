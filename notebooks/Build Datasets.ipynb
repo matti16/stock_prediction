{
 "cells": [
  {
   "cell_type": "code",
   "execution_count": 23,
   "metadata": {
    "collapsed": true
   },
   "outputs": [],
   "source": [
    "exec(open(\"./utils.py\").read())\n",
    "import numpy as np\n",
    "\n",
    "def load_news(sector, tickers):\n",
    "    news_data = pd.DataFrame()\n",
    "    for t in tickers:\n",
    "        t_data = load_news_data(sector, t)\n",
    "        t_data = t_data.drop_duplicates([\"TITLE\"])\n",
    "        t_data['tick'] = t\n",
    "        news_data = news_data.append(t_data)\n",
    "    return news_data\n",
    "\n",
    "def load_stocks(sector, tickers):\n",
    "    stocks_data = pd.DataFrame()\n",
    "    for t in tickers:\n",
    "        try:\n",
    "            t_data = load_stocks_data(sector, t)\n",
    "            t_data['tick'] = t\n",
    "            stocks_data = stocks_data.append(t_data)\n",
    "        except:\n",
    "            pass\n",
    "    return stocks_data"
   ]
  },
  {
   "cell_type": "code",
   "execution_count": 3,
   "metadata": {
    "collapsed": true
   },
   "outputs": [],
   "source": [
    "sector = \"healthcare\"\n",
    "tickers = load_tickers(sector)"
   ]
  },
  {
   "cell_type": "markdown",
   "metadata": {},
   "source": [
    "<h3> News Data </h3>"
   ]
  },
  {
   "cell_type": "code",
   "execution_count": 39,
   "metadata": {},
   "outputs": [
    {
     "data": {
      "text/html": [
       "<div>\n",
       "<style>\n",
       "    .dataframe thead tr:only-child th {\n",
       "        text-align: right;\n",
       "    }\n",
       "\n",
       "    .dataframe thead th {\n",
       "        text-align: left;\n",
       "    }\n",
       "\n",
       "    .dataframe tbody tr th {\n",
       "        vertical-align: top;\n",
       "    }\n",
       "</style>\n",
       "<table border=\"1\" class=\"dataframe\">\n",
       "  <thead>\n",
       "    <tr style=\"text-align: right;\">\n",
       "      <th></th>\n",
       "      <th>tick</th>\n",
       "      <th>PUBLICATION_DATE</th>\n",
       "      <th>POLARITY</th>\n",
       "    </tr>\n",
       "  </thead>\n",
       "  <tbody>\n",
       "    <tr>\n",
       "      <th>0</th>\n",
       "      <td>AAAP</td>\n",
       "      <td>2015-02-05</td>\n",
       "      <td>0.000000</td>\n",
       "    </tr>\n",
       "    <tr>\n",
       "      <th>1</th>\n",
       "      <td>AAAP</td>\n",
       "      <td>2015-02-18</td>\n",
       "      <td>0.999999</td>\n",
       "    </tr>\n",
       "    <tr>\n",
       "      <th>2</th>\n",
       "      <td>AAAP</td>\n",
       "      <td>2015-10-02</td>\n",
       "      <td>0.999999</td>\n",
       "    </tr>\n",
       "    <tr>\n",
       "      <th>3</th>\n",
       "      <td>AAAP</td>\n",
       "      <td>2015-11-02</td>\n",
       "      <td>0.999999</td>\n",
       "    </tr>\n",
       "    <tr>\n",
       "      <th>4</th>\n",
       "      <td>AAAP</td>\n",
       "      <td>2015-11-07</td>\n",
       "      <td>0.000000</td>\n",
       "    </tr>\n",
       "  </tbody>\n",
       "</table>\n",
       "</div>"
      ],
      "text/plain": [
       "   tick PUBLICATION_DATE  POLARITY\n",
       "0  AAAP       2015-02-05  0.000000\n",
       "1  AAAP       2015-02-18  0.999999\n",
       "2  AAAP       2015-10-02  0.999999\n",
       "3  AAAP       2015-11-02  0.999999\n",
       "4  AAAP       2015-11-07  0.000000"
      ]
     },
     "execution_count": 39,
     "metadata": {},
     "output_type": "execute_result"
    }
   ],
   "source": [
    "import pysentiment as ps\n",
    "lm = ps.LM()\n",
    "\n",
    "df_news = load_news(sector, tickers)\n",
    "df_news['PUBLICATION_DATE'] = df_news['PUBLICATION_DATE'].map(lambda x: x[:10])\n",
    "df_news['SUMMARY_SCORES'] = df_news.SUMMARY.map(lambda x: lm.get_score(lm.tokenize(str(x))))\n",
    "df_news['POLARITY'] = df_news['SUMMARY_SCORES'].map(lambda x: x['Polarity'])\n",
    "\n",
    "df_news = df_news.groupby(['tick', 'PUBLICATION_DATE']).sum().reset_index()\n",
    "\n",
    "df_news.head()"
   ]
  },
  {
   "cell_type": "markdown",
   "metadata": {},
   "source": [
    "<h3> Stocks Data </h3>"
   ]
  },
  {
   "cell_type": "code",
   "execution_count": 40,
   "metadata": {},
   "outputs": [
    {
     "data": {
      "text/html": [
       "<div>\n",
       "<style>\n",
       "    .dataframe thead tr:only-child th {\n",
       "        text-align: right;\n",
       "    }\n",
       "\n",
       "    .dataframe thead th {\n",
       "        text-align: left;\n",
       "    }\n",
       "\n",
       "    .dataframe tbody tr th {\n",
       "        vertical-align: top;\n",
       "    }\n",
       "</style>\n",
       "<table border=\"1\" class=\"dataframe\">\n",
       "  <thead>\n",
       "    <tr style=\"text-align: right;\">\n",
       "      <th></th>\n",
       "      <th>tick</th>\n",
       "      <th>Date</th>\n",
       "      <th>Close</th>\n",
       "    </tr>\n",
       "  </thead>\n",
       "  <tbody>\n",
       "    <tr>\n",
       "      <th>0</th>\n",
       "      <td>NVRO</td>\n",
       "      <td>2017-10-20</td>\n",
       "      <td>91.49</td>\n",
       "    </tr>\n",
       "    <tr>\n",
       "      <th>1</th>\n",
       "      <td>NVRO</td>\n",
       "      <td>2017-10-19</td>\n",
       "      <td>91.10</td>\n",
       "    </tr>\n",
       "    <tr>\n",
       "      <th>2</th>\n",
       "      <td>NVRO</td>\n",
       "      <td>2017-10-18</td>\n",
       "      <td>90.65</td>\n",
       "    </tr>\n",
       "    <tr>\n",
       "      <th>3</th>\n",
       "      <td>NVRO</td>\n",
       "      <td>2017-10-17</td>\n",
       "      <td>90.44</td>\n",
       "    </tr>\n",
       "    <tr>\n",
       "      <th>4</th>\n",
       "      <td>NVRO</td>\n",
       "      <td>2017-10-16</td>\n",
       "      <td>90.35</td>\n",
       "    </tr>\n",
       "  </tbody>\n",
       "</table>\n",
       "</div>"
      ],
      "text/plain": [
       "   tick        Date  Close\n",
       "0  NVRO  2017-10-20  91.49\n",
       "1  NVRO  2017-10-19  91.10\n",
       "2  NVRO  2017-10-18  90.65\n",
       "3  NVRO  2017-10-17  90.44\n",
       "4  NVRO  2017-10-16  90.35"
      ]
     },
     "execution_count": 40,
     "metadata": {},
     "output_type": "execute_result"
    }
   ],
   "source": [
    "df_stocks = load_stocks(sector, tickers)\n",
    "df_stocks['Date'] = pd.to_datetime(df_stocks['Date']).astype(str)\n",
    "df_stocks = df_stocks[['tick', 'Date', 'Close']]\n",
    "\n",
    "df_stocks.head()"
   ]
  },
  {
   "cell_type": "markdown",
   "metadata": {},
   "source": [
    "<h3> All days in Time Period </h3>"
   ]
  },
  {
   "cell_type": "code",
   "execution_count": 41,
   "metadata": {},
   "outputs": [
    {
     "data": {
      "text/plain": [
       "(datetime.date(2016, 1, 4), datetime.date(2017, 9, 30))"
      ]
     },
     "execution_count": 41,
     "metadata": {},
     "output_type": "execute_result"
    }
   ],
   "source": [
    "from datetime import date, timedelta\n",
    "\n",
    "DATE_FROM = date(2016, 1, 4)\n",
    "DATE_TO = date(2017, 9, 30)\n",
    "\n",
    "days = []\n",
    "d1 =  DATE_FROM # start date\n",
    "d2 =  DATE_TO # end date\n",
    "\n",
    "delta = d2 - d1         # timedelta\n",
    "\n",
    "for i in range(delta.days + 1):\n",
    "    days.append(d1 + timedelta(days=i))\n",
    "\n",
    "days[0], days[-1]"
   ]
  },
  {
   "cell_type": "markdown",
   "metadata": {},
   "source": [
    "<h3> Merge Data </h3>"
   ]
  },
  {
   "cell_type": "code",
   "execution_count": 42,
   "metadata": {
    "scrolled": true
   },
   "outputs": [
    {
     "data": {
      "text/html": [
       "<div>\n",
       "<style>\n",
       "    .dataframe thead tr:only-child th {\n",
       "        text-align: right;\n",
       "    }\n",
       "\n",
       "    .dataframe thead th {\n",
       "        text-align: left;\n",
       "    }\n",
       "\n",
       "    .dataframe tbody tr th {\n",
       "        vertical-align: top;\n",
       "    }\n",
       "</style>\n",
       "<table border=\"1\" class=\"dataframe\">\n",
       "  <thead>\n",
       "    <tr style=\"text-align: right;\">\n",
       "      <th></th>\n",
       "      <th>Date</th>\n",
       "      <th>Tick</th>\n",
       "      <th>Close</th>\n",
       "      <th>Polarity</th>\n",
       "      <th>News</th>\n",
       "    </tr>\n",
       "  </thead>\n",
       "  <tbody>\n",
       "    <tr>\n",
       "      <th>0</th>\n",
       "      <td>2016-01-04</td>\n",
       "      <td>AAAP</td>\n",
       "      <td>30.67</td>\n",
       "      <td>0.0</td>\n",
       "      <td>0</td>\n",
       "    </tr>\n",
       "    <tr>\n",
       "      <th>1</th>\n",
       "      <td>2016-01-05</td>\n",
       "      <td>AAAP</td>\n",
       "      <td>30.88</td>\n",
       "      <td>0.0</td>\n",
       "      <td>0</td>\n",
       "    </tr>\n",
       "    <tr>\n",
       "      <th>2</th>\n",
       "      <td>2016-01-06</td>\n",
       "      <td>AAAP</td>\n",
       "      <td>29.96</td>\n",
       "      <td>0.0</td>\n",
       "      <td>0</td>\n",
       "    </tr>\n",
       "    <tr>\n",
       "      <th>3</th>\n",
       "      <td>2016-01-07</td>\n",
       "      <td>AAAP</td>\n",
       "      <td>29.65</td>\n",
       "      <td>0.0</td>\n",
       "      <td>0</td>\n",
       "    </tr>\n",
       "    <tr>\n",
       "      <th>4</th>\n",
       "      <td>2016-01-08</td>\n",
       "      <td>AAAP</td>\n",
       "      <td>28.00</td>\n",
       "      <td>0.0</td>\n",
       "      <td>0</td>\n",
       "    </tr>\n",
       "  </tbody>\n",
       "</table>\n",
       "</div>"
      ],
      "text/plain": [
       "         Date  Tick  Close  Polarity  News\n",
       "0  2016-01-04  AAAP  30.67       0.0     0\n",
       "1  2016-01-05  AAAP  30.88       0.0     0\n",
       "2  2016-01-06  AAAP  29.96       0.0     0\n",
       "3  2016-01-07  AAAP  29.65       0.0     0\n",
       "4  2016-01-08  AAAP  28.00       0.0     0"
      ]
     },
     "execution_count": 42,
     "metadata": {},
     "output_type": "execute_result"
    }
   ],
   "source": [
    "df_analysis = pd.DataFrame()\n",
    "ticks_intersect = set(df_news.tick.unique()) & set(df_stocks.tick.unique())\n",
    "\n",
    "for t in ticks_intersect:\n",
    "    df_news_tick = df_news[df_news['tick'] == t][['PUBLICATION_DATE', 'POLARITY']]\n",
    "    df_stocks_tick = df_stocks[df_stocks['tick'] == t][['Date', 'Close']]\n",
    "    df_t = pd.DataFrame()\n",
    "    df_t['Date'] = map(lambda x: x.strftime(\"%Y-%m-%d\"), days)\n",
    "    df_t['Tick'] = t\n",
    "    df_t = pd.merge(df_t, df_news_tick, how='left', left_on='Date', right_on='PUBLICATION_DATE')\n",
    "    df_t = pd.merge(df_t, df_stocks_tick, how='left', on='Date')\n",
    "    df_t['News'] = df_t['POLARITY'].map(lambda x: 0 if x!=x else 1)\n",
    "    df_t['Polarity'] = df_t['POLARITY'].fillna(0)\n",
    "    df_analysis = df_analysis.append(df_t[['Date', 'Tick', 'Close', 'Polarity', 'News']])\n",
    "\n",
    "df_analysis = df_analysis.interpolate()\n",
    "df_analysis.head()"
   ]
  },
  {
   "cell_type": "code",
   "execution_count": 43,
   "metadata": {
    "collapsed": true
   },
   "outputs": [],
   "source": [
    "df_analysis.to_csv(sector + \"_dataset.csv\", index=False)"
   ]
  }
 ],
 "metadata": {
  "kernelspec": {
   "display_name": "Python 3",
   "language": "python",
   "name": "python3"
  },
  "language_info": {
   "codemirror_mode": {
    "name": "ipython",
    "version": 3
   },
   "file_extension": ".py",
   "mimetype": "text/x-python",
   "name": "python",
   "nbconvert_exporter": "python",
   "pygments_lexer": "ipython3",
   "version": "3.6.3"
  }
 },
 "nbformat": 4,
 "nbformat_minor": 2
}
