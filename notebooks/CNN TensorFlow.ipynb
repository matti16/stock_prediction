{
 "cells": [
  {
   "cell_type": "code",
   "execution_count": 1,
   "metadata": {},
   "outputs": [],
   "source": [
    "import pandas as pd\n",
    "import numpy as np\n",
    "import tensorflow as tf"
   ]
  },
  {
   "cell_type": "code",
   "execution_count": 2,
   "metadata": {},
   "outputs": [],
   "source": [
    "sector = \"healthcare\""
   ]
  },
  {
   "cell_type": "code",
   "execution_count": 3,
   "metadata": {},
   "outputs": [
    {
     "data": {
      "text/html": [
       "<div>\n",
       "<style scoped>\n",
       "    .dataframe tbody tr th:only-of-type {\n",
       "        vertical-align: middle;\n",
       "    }\n",
       "\n",
       "    .dataframe tbody tr th {\n",
       "        vertical-align: top;\n",
       "    }\n",
       "\n",
       "    .dataframe thead th {\n",
       "        text-align: right;\n",
       "    }\n",
       "</style>\n",
       "<table border=\"1\" class=\"dataframe\">\n",
       "  <thead>\n",
       "    <tr style=\"text-align: right;\">\n",
       "      <th></th>\n",
       "      <th>Date</th>\n",
       "      <th>Tick</th>\n",
       "      <th>Close</th>\n",
       "      <th>Polarity</th>\n",
       "      <th>News</th>\n",
       "    </tr>\n",
       "  </thead>\n",
       "  <tbody>\n",
       "    <tr>\n",
       "      <th>0</th>\n",
       "      <td>2016-01-04</td>\n",
       "      <td>AAAP</td>\n",
       "      <td>30.67</td>\n",
       "      <td>0.0</td>\n",
       "      <td>0</td>\n",
       "    </tr>\n",
       "    <tr>\n",
       "      <th>1</th>\n",
       "      <td>2016-01-05</td>\n",
       "      <td>AAAP</td>\n",
       "      <td>30.88</td>\n",
       "      <td>0.0</td>\n",
       "      <td>0</td>\n",
       "    </tr>\n",
       "    <tr>\n",
       "      <th>2</th>\n",
       "      <td>2016-01-06</td>\n",
       "      <td>AAAP</td>\n",
       "      <td>29.96</td>\n",
       "      <td>0.0</td>\n",
       "      <td>0</td>\n",
       "    </tr>\n",
       "    <tr>\n",
       "      <th>3</th>\n",
       "      <td>2016-01-07</td>\n",
       "      <td>AAAP</td>\n",
       "      <td>29.65</td>\n",
       "      <td>0.0</td>\n",
       "      <td>0</td>\n",
       "    </tr>\n",
       "    <tr>\n",
       "      <th>4</th>\n",
       "      <td>2016-01-08</td>\n",
       "      <td>AAAP</td>\n",
       "      <td>28.00</td>\n",
       "      <td>0.0</td>\n",
       "      <td>0</td>\n",
       "    </tr>\n",
       "  </tbody>\n",
       "</table>\n",
       "</div>"
      ],
      "text/plain": [
       "         Date  Tick  Close  Polarity  News\n",
       "0  2016-01-04  AAAP  30.67       0.0     0\n",
       "1  2016-01-05  AAAP  30.88       0.0     0\n",
       "2  2016-01-06  AAAP  29.96       0.0     0\n",
       "3  2016-01-07  AAAP  29.65       0.0     0\n",
       "4  2016-01-08  AAAP  28.00       0.0     0"
      ]
     },
     "execution_count": 3,
     "metadata": {},
     "output_type": "execute_result"
    }
   ],
   "source": [
    "df_analysis = pd.read_csv(sector + \"_dataset.csv\")\n",
    "df_analysis.head()"
   ]
  },
  {
   "cell_type": "markdown",
   "metadata": {},
   "source": [
    "<h3> Pivoting and Generating Features & Labels </h3>"
   ]
  },
  {
   "cell_type": "code",
   "execution_count": 149,
   "metadata": {},
   "outputs": [
    {
     "data": {
      "text/plain": [
       "(Date     2016-01-04     2016-01-05     2016-01-06  \\\n",
       " Tick                                                \n",
       " AAAP   [30.67, 0.0]   [30.88, 0.0]   [29.96, 0.0]   \n",
       " ABBV   [57.61, 0.0]   [57.37, 0.0]   [57.38, 0.0]   \n",
       " ABC   [101.87, 0.0]  [103.36, 0.0]  [101.78, 0.0]   \n",
       " ABMD   [85.24, 0.0]    [85.0, 0.0]    [85.3, 0.0]   \n",
       " ACAD   [34.62, 0.0]   [34.46, 0.0]   [29.24, 0.0]   \n",
       " \n",
       " Date                   2016-01-07                    2016-01-08  \\\n",
       " Tick                                                              \n",
       " AAAP                 [29.65, 0.0]                   [28.0, 0.0]   \n",
       " ABBV                 [57.21, 0.0]                  [55.65, 0.0]   \n",
       " ABC                  [98.53, 0.0]  [97.96, -0.9999990000010001]   \n",
       " ABMD                 [81.92, 0.0]                  [84.58, 0.0]   \n",
       " ACAD  [28.73, 0.9999990000010001]                  [28.04, 0.0]   \n",
       " \n",
       " Date            2016-01-09            2016-01-10                   2016-01-11  \\\n",
       " Tick                                                                            \n",
       " AAAP  [27.5966666667, 0.0]  [27.1933333333, 0.0]                 [26.79, 0.0]   \n",
       " ABBV          [55.06, 0.0]          [54.47, 0.0]                 [53.88, 0.0]   \n",
       " ABC           [96.66, 0.0]          [95.36, 0.0]                 [94.06, 0.0]   \n",
       " ABMD          [84.72, 0.0]          [84.86, 0.0]       [85.0, 0.999999666667]   \n",
       " ACAD          [27.73, 0.0]          [27.42, 0.0]  [27.11, 0.9999990000010001]   \n",
       " \n",
       " Date    2016-01-12    2016-01-13            ...             \\\n",
       " Tick                                        ...              \n",
       " AAAP  [24.71, 0.0]  [26.09, 0.0]            ...              \n",
       " ABBV  [54.84, 0.0]  [51.18, 0.0]            ...              \n",
       " ABC   [94.18, 0.0]  [93.14, 0.0]            ...              \n",
       " ABMD  [88.32, 0.0]  [85.81, 0.0]            ...              \n",
       " ACAD  [27.04, 0.0]  [23.13, 0.0]            ...              \n",
       " \n",
       " Date                   2017-09-21         2017-09-22  \\\n",
       " Tick                                                   \n",
       " AAAP                 [57.15, 0.0]       [55.05, 0.0]   \n",
       " ABBV  [87.41, 0.9999990000010001]  [87.48, 1.999998]   \n",
       " ABC                  [80.38, 0.0]       [81.05, 0.0]   \n",
       " ABMD                [159.79, 0.0]      [163.96, 0.0]   \n",
       " ACAD      [37.63, -1.33333222222]       [37.59, 0.0]   \n",
       " \n",
       " Date                  2017-09-23                   2017-09-24  \\\n",
       " Tick                                                            \n",
       " AAAP        [55.3833333333, 0.0]         [55.7166666667, 0.0]   \n",
       " ABBV        [87.1766666667, 0.0]  [86.8733333333, -0.9999995]   \n",
       " ABC   [81.0266666667, 0.9999995]         [81.0033333333, 0.0]   \n",
       " ABMD   [162.74333333299998, 0.0]         [161.526666667, 0.0]   \n",
       " ACAD        [37.6166666667, 0.0]         [37.6433333333, 0.0]   \n",
       " \n",
       " Date           2017-09-25                   2017-09-26  \\\n",
       " Tick                                                     \n",
       " AAAP         [56.05, 0.0]                  [58.3, 0.0]   \n",
       " ABBV  [86.57, -1.9999985]  [85.35, -4.99999249892e-07]   \n",
       " ABC          [80.98, 0.0]  [82.0, -0.9999990000010001]   \n",
       " ABMD        [160.31, 0.0]                [160.61, 0.0]   \n",
       " ACAD         [37.67, 0.0]            [37.43, 1.999998]   \n",
       " \n",
       " Date                    2017-09-27                   2017-09-28  \\\n",
       " Tick                                                              \n",
       " AAAP   [59.76, 0.9999990000010001]             [65.1, 3.999996]   \n",
       " ABBV  [84.75, -0.9999990000010001]  [88.96, -6.333327388890001]   \n",
       " ABC       [82.43, -0.999999909091]                 [80.99, 0.0]   \n",
       " ABMD     [163.72, -0.499999125001]                [162.34, 0.0]   \n",
       " ACAD                   [37.9, 0.0]                 [38.37, 0.0]   \n",
       " \n",
       " Date              2017-09-29                2017-09-30  \n",
       " Tick                                                    \n",
       " AAAP       [67.62, 1.999998]             [59.935, 0.0]  \n",
       " ABBV  [88.86, 1.33333222222]  [77.445, 0.333333222222]  \n",
       " ABC             [82.75, 0.0]             [68.695, 0.0]  \n",
       " ABMD            [168.6, 0.0]             [116.95, 0.0]  \n",
       " ACAD     [37.67, -0.9999995]             [50.655, 0.0]  \n",
       " \n",
       " [5 rows x 636 columns],\n",
       " Date  2016-01-04  2016-01-05  2016-01-06  2016-01-07  2016-01-08  2016-01-09  \\\n",
       " Tick                                                                           \n",
       " AAAP       30.67       30.88       29.96       29.65       28.00   27.596667   \n",
       " ABBV       57.61       57.37       57.38       57.21       55.65   55.060000   \n",
       " ABC       101.87      103.36      101.78       98.53       97.96   96.660000   \n",
       " ABMD       85.24       85.00       85.30       81.92       84.58   84.720000   \n",
       " ACAD       34.62       34.46       29.24       28.73       28.04   27.730000   \n",
       " \n",
       " Date  2016-01-10  2016-01-11  2016-01-12  2016-01-13     ...      2017-09-21  \\\n",
       " Tick                                                     ...                   \n",
       " AAAP   27.193333       26.79       24.71       26.09     ...           57.15   \n",
       " ABBV   54.470000       53.88       54.84       51.18     ...           87.41   \n",
       " ABC    95.360000       94.06       94.18       93.14     ...           80.38   \n",
       " ABMD   84.860000       85.00       88.32       85.81     ...          159.79   \n",
       " ACAD   27.420000       27.11       27.04       23.13     ...           37.63   \n",
       " \n",
       " Date  2017-09-22  2017-09-23  2017-09-24  2017-09-25  2017-09-26  2017-09-27  \\\n",
       " Tick                                                                           \n",
       " AAAP       55.05   55.383333   55.716667       56.05       58.30       59.76   \n",
       " ABBV       87.48   87.176667   86.873333       86.57       85.35       84.75   \n",
       " ABC        81.05   81.026667   81.003333       80.98       82.00       82.43   \n",
       " ABMD      163.96  162.743333  161.526667      160.31      160.61      163.72   \n",
       " ACAD       37.59   37.616667   37.643333       37.67       37.43       37.90   \n",
       " \n",
       " Date  2017-09-28  2017-09-29  2017-09-30  \n",
       " Tick                                      \n",
       " AAAP       65.10       67.62      59.935  \n",
       " ABBV       88.96       88.86      77.445  \n",
       " ABC        80.99       82.75      68.695  \n",
       " ABMD      162.34      168.60     116.950  \n",
       " ACAD       38.37       37.67      50.655  \n",
       " \n",
       " [5 rows x 636 columns],\n",
       " Date  2016-01-04  2016-01-05  2016-01-06  2016-01-07  2016-01-08  2016-01-09  \\\n",
       " Tick                                                                           \n",
       " AAAP         0.0         0.0         0.0    0.000000    0.000000         0.0   \n",
       " ABBV         0.0         0.0         0.0    0.000000    0.000000         0.0   \n",
       " ABC          0.0         0.0         0.0    0.000000   -0.999999         0.0   \n",
       " ABMD         0.0         0.0         0.0    0.000000    0.000000         0.0   \n",
       " ACAD         0.0         0.0         0.0    0.999999    0.000000         0.0   \n",
       " \n",
       " Date  2016-01-10  2016-01-11  2016-01-12  2016-01-13     ...      2017-09-21  \\\n",
       " Tick                                                     ...                   \n",
       " AAAP         0.0    0.000000         0.0         0.0     ...        0.000000   \n",
       " ABBV         0.0    0.000000         0.0         0.0     ...        0.999999   \n",
       " ABC          0.0    0.000000         0.0         0.0     ...        0.000000   \n",
       " ABMD         0.0    1.000000         0.0         0.0     ...        0.000000   \n",
       " ACAD         0.0    0.999999         0.0         0.0     ...       -1.333332   \n",
       " \n",
       " Date  2017-09-22  2017-09-23  2017-09-24  2017-09-25    2017-09-26  \\\n",
       " Tick                                                                 \n",
       " AAAP    0.000000         0.0         0.0    0.000000  0.000000e+00   \n",
       " ABBV    1.999998         0.0        -1.0   -1.999999 -4.999992e-07   \n",
       " ABC     0.000000         1.0         0.0    0.000000 -9.999990e-01   \n",
       " ABMD    0.000000         0.0         0.0    0.000000  0.000000e+00   \n",
       " ACAD    0.000000         0.0         0.0    0.000000  1.999998e+00   \n",
       " \n",
       " Date  2017-09-27  2017-09-28  2017-09-29  2017-09-30  \n",
       " Tick                                                  \n",
       " AAAP    0.999999    3.999996    1.999998    0.000000  \n",
       " ABBV   -0.999999   -6.333327    1.333332    0.333333  \n",
       " ABC    -1.000000    0.000000    0.000000    0.000000  \n",
       " ABMD   -0.499999    0.000000    0.000000    0.000000  \n",
       " ACAD    0.000000    0.000000   -1.000000    0.000000  \n",
       " \n",
       " [5 rows x 636 columns])"
      ]
     },
     "execution_count": 149,
     "metadata": {},
     "output_type": "execute_result"
    }
   ],
   "source": [
    "df_analysis['Signals'] = [[x, y] for x,y in zip(df_analysis['Close'], df_analysis['Polarity'])]\n",
    "df_pivot = pd.pivot_table(df_analysis, values='Signals', index='Tick', columns='Date', aggfunc=lambda x: np.array(x))\n",
    "df_pivot_stock = pd.pivot_table(df_analysis, values='Close', index='Tick', columns='Date', aggfunc=lambda x: np.array(x))\n",
    "df_pivot_news = pd.pivot_table(df_analysis, values='Polarity', index='Tick', columns='Date', aggfunc=lambda x: np.array(x))\n",
    "df_pivot.head(), df_pivot_stock.head(), df_pivot_news.head()"
   ]
  },
  {
   "cell_type": "markdown",
   "metadata": {},
   "source": [
    "<h3> Prepare input for Tensor Flow </h3>"
   ]
  },
  {
   "cell_type": "code",
   "execution_count": 190,
   "metadata": {},
   "outputs": [
    {
     "data": {
      "text/plain": [
       "((535, 2, 154, 100),\n",
       " (535, 154),\n",
       " array([[[  30.67      ,   30.88      ,   29.96      , ...,   35.76666667,\n",
       "            35.8       ,   35.75      ],\n",
       "         [  57.61      ,   57.37      ,   57.38      , ...,   58.49      ,\n",
       "            58.5       ,   59.89      ],\n",
       "         [ 101.87      ,  103.36      ,  101.78      , ...,   84.73      ,\n",
       "            84.44      ,   84.9       ],\n",
       "         ..., \n",
       "         [  58.86      ,   60.06      ,   59.19      , ...,   59.57333333,\n",
       "            59.5       ,   59.71      ],\n",
       "         [ 101.81      ,  103.93      ,  104.38      , ...,  109.18666667,\n",
       "           109.3       ,  111.57      ],\n",
       "         [  47.27      ,   48.01      ,   48.02      , ...,   46.76      ,\n",
       "            46.67      ,   47.01      ]],\n",
       " \n",
       "        [[   0.        ,    0.        ,    0.        , ...,    0.        ,\n",
       "             0.        ,    0.        ],\n",
       "         [   0.        ,    0.        ,    0.        , ...,    0.        ,\n",
       "             0.        ,    0.        ],\n",
       "         [   0.        ,    0.        ,    0.        , ...,    0.        ,\n",
       "             0.        ,    0.        ],\n",
       "         ..., \n",
       "         [   0.        ,    0.        ,    0.        , ...,    0.        ,\n",
       "             0.        ,    0.        ],\n",
       "         [   0.        ,    0.        ,    0.        , ...,    0.        ,\n",
       "             0.        ,    0.        ],\n",
       "         [   0.        ,    0.        ,    0.        , ...,    0.        ,\n",
       "             0.        ,    0.        ]]]),\n",
       " array([[0, 1, 1, 0, 1, 1, 1, 0, 0, 1, 1, 1, 0, 1, 1, 0, 1, 1, 1, 1, 0, 0,\n",
       "         0, 0, 0, 1, 1, 0, 0, 1, 1, 0, 1, 0, 1, 0, 0, 1, 0, 1, 0, 1, 1, 1,\n",
       "         1, 1, 1, 0, 0, 0, 0, 1, 0, 1, 1, 0, 1, 1, 1, 0, 1, 1, 1, 0, 1, 1,\n",
       "         1, 1, 0, 0, 1, 0, 1, 0, 1, 0, 1, 0, 0, 0, 0, 1, 1, 1, 1, 1, 1, 0,\n",
       "         0, 1, 0, 1, 1, 0, 0, 0, 0, 1, 0, 0, 1, 1, 0, 0, 0, 0, 1, 1, 0, 0,\n",
       "         1, 1, 0, 1, 1, 0, 0, 1, 1, 0, 0, 0, 0, 1, 0, 0, 1, 1, 1, 0, 1, 1,\n",
       "         0, 0, 0, 1, 0, 0, 1, 0, 0, 0, 1, 1, 0, 1, 1, 0, 1, 1, 1, 1, 1, 1],\n",
       "        [0, 1, 1, 1, 0, 0, 0, 1, 0, 1, 1, 1, 1, 0, 1, 0, 0, 0, 1, 1, 1, 1,\n",
       "         1, 0, 1, 0, 1, 0, 0, 1, 1, 1, 1, 1, 0, 0, 1, 1, 0, 1, 1, 0, 1, 1,\n",
       "         0, 0, 1, 0, 0, 0, 1, 0, 0, 1, 1, 0, 0, 1, 1, 0, 0, 1, 1, 0, 0, 0,\n",
       "         1, 1, 1, 0, 1, 0, 1, 0, 1, 0, 1, 0, 1, 0, 1, 1, 1, 1, 1, 0, 0, 0,\n",
       "         1, 1, 0, 0, 1, 1, 1, 1, 0, 0, 1, 0, 0, 0, 0, 0, 1, 1, 1, 0, 1, 0,\n",
       "         0, 0, 1, 0, 0, 0, 1, 0, 1, 1, 1, 1, 0, 0, 0, 1, 1, 1, 1, 1, 1, 0,\n",
       "         0, 0, 0, 0, 1, 1, 0, 1, 0, 1, 0, 0, 1, 1, 0, 0, 1, 0, 0, 1, 0, 1]], dtype=int64),\n",
       " (535, 154),\n",
       " array([  0.00000000e+00,   3.72502540e-03,   1.79640719e-02,\n",
       "         -1.21740895e-02,   1.71583384e-02,   3.46106304e-02,\n",
       "          1.33779264e-02,  -7.68952415e-03,  -8.07754443e-03,\n",
       "          8.17757009e-03,   5.47270488e-04,   1.33641737e-02,\n",
       "         -2.30580775e-02,   1.22318158e-02,   3.74859428e-04,\n",
       "         -2.36851271e-03,   1.27388535e-02,   2.97872340e-02,\n",
       "          3.38524035e-03,   7.32168162e-03,  -6.78853707e-04,\n",
       "         -4.96917851e-03,  -7.92644261e-03,  -4.30574467e-03,\n",
       "         -1.59668835e-02,   3.72797108e-03,   4.43984017e-03,\n",
       "         -4.60000000e-02,  -1.02197241e-03,   4.76928580e-04,\n",
       "          3.24475984e-05,  -5.66914498e-03,   9.52803014e-03,\n",
       "         -1.45985401e-02,   5.33728688e-02,  -8.53985265e-03,\n",
       "         -6.65374677e-03,   4.12371134e-03,  -2.22993062e-03,\n",
       "          3.03438975e-03,  -1.97765253e-04,   2.51716247e-02,\n",
       "          9.96995356e-03,   1.34789055e-04,   1.77622590e-02,\n",
       "          8.43763184e-04,   3.51554415e-04,  -7.66248154e-03,\n",
       "          0.00000000e+00,  -4.53514739e-03,  -9.24574209e-03,\n",
       "          2.92660964e-03,  -1.96319018e-02,   1.02891244e-02,\n",
       "          5.52995392e-03,  -2.08942750e-03,   6.49350649e-03,\n",
       "          2.82220132e-03,   1.53023140e-02,  -4.81313703e-03,\n",
       "          1.48883375e-03,   3.72856078e-03,   3.20256205e-03,\n",
       "         -8.40477391e-03,   1.27706830e-02,   6.94444444e-03,\n",
       "          1.49672591e-03,   1.18063754e-03,  -1.01200282e-02,\n",
       "         -9.51474786e-04,   8.64840704e-04,  -1.27379995e-02,\n",
       "          2.50747420e-03,  -7.83095090e-03,   1.03135314e-03,\n",
       "         -8.58369099e-03,   7.61035008e-04,  -6.12959720e-03,\n",
       "         -6.22009569e-03,  -7.12637437e-03,  -2.73049968e-04,\n",
       "          5.56973776e-03,   2.13309175e-02,   6.42706131e-03,\n",
       "          1.02420857e-02,   6.25332624e-03,   3.69047619e-02,\n",
       "         -1.12406913e-03,  -2.10378682e-03,   9.21658986e-03,\n",
       "          0.00000000e+00,   3.87897595e-04,   7.14898484e-03,\n",
       "         -2.55056646e-03,  -6.79560899e-03,  -2.01230667e-02,\n",
       "         -1.20909237e-02,   8.75625447e-03,  -7.50964076e-03,\n",
       "         -1.24050633e-02,   7.83566285e-03,   1.58248428e-02,\n",
       "         -2.44548604e-03,  -5.23903078e-03,  -2.55855147e-03,\n",
       "         -3.21830860e-03,   2.30804739e-03,   8.48243870e-03,\n",
       "         -1.99430199e-03,  -1.27737226e-02,   1.77179305e-03,\n",
       "          8.52272727e-03,  -2.24114747e-03,   2.81800391e-02,\n",
       "          3.38045482e-03,  -1.74418605e-03,  -3.11203320e-03,\n",
       "          1.87808123e-03,   1.04992501e-02,  -6.64451827e-03,\n",
       "         -4.71428571e-03,  -1.26156434e-03,  -5.60695262e-03,\n",
       "          1.28905397e-02,  -8.98859982e-03,  -1.21282605e-02,\n",
       "          3.31553807e-02,   1.14099430e-02,   2.21688034e-02,\n",
       "         -1.51134876e-02,   1.17612467e-02,   2.07900208e-02,\n",
       "         -1.56599553e-02,  -3.89863548e-03,  -1.02781137e-02,\n",
       "          4.37876300e-03,  -1.52868910e-02,  -8.63557858e-03,\n",
       "          1.61754134e-03,  -1.09379968e-02,  -2.58474197e-03,\n",
       "         -3.09070549e-02,   3.91311292e-03,   1.72197871e-03,\n",
       "         -3.99513636e-03,   8.57591497e-03,   2.23057056e-02,\n",
       "         -2.23564955e-02,   2.22002960e-03,   8.25264085e-03,\n",
       "          6.47240123e-02,   3.84615385e-03,   8.56269113e-03,\n",
       "          3.57894737e-03]))"
      ]
     },
     "execution_count": 190,
     "metadata": {},
     "output_type": "execute_result"
    }
   ],
   "source": [
    "window = 100\n",
    "features = []\n",
    "labels = []\n",
    "perc_var = []\n",
    "\n",
    "i = 0\n",
    "end_col = window + 1\n",
    "\n",
    "while end_col + i < df_pivot.shape[1]:\n",
    "    features.append(np.array([df_pivot_stock.iloc[:, i:end_col+i-1].values, df_pivot_news.iloc[:, i:end_col+i-1].values]))\n",
    "    l = (df_pivot.iloc[:,end_col+i].map(lambda x: x[0]) - df_pivot.iloc[:,end_col+i-1].map(lambda x: x[0])).map(lambda x: 1 if x>0 else 0).values\n",
    "    labels.append(l)\n",
    "    \n",
    "    perc_var.append( ((df_pivot.iloc[:,end_col+i].map(lambda x: x[0]) - df_pivot.iloc[:,end_col+i-1].map(lambda x: x[0])) / df_pivot.iloc[:,end_col+i-1].map(lambda x: x[0])).values ) \n",
    "    i = i + 1\n",
    "\n",
    "features = np.array(features)\n",
    "labels = np.array(labels)\n",
    "perc_var = np.array(perc_var)\n",
    "features.shape, labels.shape, features[0], labels[0:2], perc_var.shape, perc_var[0]"
   ]
  },
  {
   "cell_type": "markdown",
   "metadata": {},
   "source": [
    "<h3> Split Train - Eval </h3>"
   ]
  },
  {
   "cell_type": "code",
   "execution_count": 174,
   "metadata": {},
   "outputs": [
    {
     "data": {
      "text/plain": [
       "((435, 2, 154, 100), (100, 2, 154, 100), (435, 154), (100, 154))"
      ]
     },
     "execution_count": 174,
     "metadata": {},
     "output_type": "execute_result"
    }
   ],
   "source": [
    "train_features = features[:-100]\n",
    "test_features = features[-100:]\n",
    "train_labels = labels[:-100]\n",
    "test_labels = labels[-100:]\n",
    "\n",
    "train_features.shape, test_features.shape, train_labels.shape, test_labels.shape"
   ]
  },
  {
   "cell_type": "markdown",
   "metadata": {},
   "source": [
    "<h3> TRAIN CNN </h3>"
   ]
  },
  {
   "cell_type": "code",
   "execution_count": 175,
   "metadata": {},
   "outputs": [],
   "source": [
    "exec(open(\"cnn_stocks.py\").read())"
   ]
  },
  {
   "cell_type": "code",
   "execution_count": 176,
   "metadata": {},
   "outputs": [
    {
     "name": "stdout",
     "output_type": "stream",
     "text": [
      "INFO:tensorflow:Using default config.\n"
     ]
    },
    {
     "name": "stderr",
     "output_type": "stream",
     "text": [
      "INFO:tensorflow:Using default config.\n"
     ]
    },
    {
     "name": "stdout",
     "output_type": "stream",
     "text": [
      "INFO:tensorflow:Using config: {'_model_dir': '../tmp/stocks_convnet_model', '_tf_random_seed': 1, '_save_summary_steps': 100, '_save_checkpoints_secs': 600, '_save_checkpoints_steps': None, '_session_config': None, '_keep_checkpoint_max': 5, '_keep_checkpoint_every_n_hours': 10000, '_log_step_count_steps': 100}\n"
     ]
    },
    {
     "name": "stderr",
     "output_type": "stream",
     "text": [
      "INFO:tensorflow:Using config: {'_model_dir': '../tmp/stocks_convnet_model', '_tf_random_seed': 1, '_save_summary_steps': 100, '_save_checkpoints_secs': 600, '_save_checkpoints_steps': None, '_session_config': None, '_keep_checkpoint_max': 5, '_keep_checkpoint_every_n_hours': 10000, '_log_step_count_steps': 100}\n"
     ]
    }
   ],
   "source": [
    "# Create the Estimator\n",
    "stocks_classifier = tf.estimator.Estimator(model_fn=cnn_model_fn, model_dir=\"../tmp/stocks_convnet_model\")\n",
    "\n",
    "# Set up logging for predictions\n",
    "tensors_to_log = {\"probabilities\": \"softmax_tensor\"}\n",
    "logging_hook = tf.train.LoggingTensorHook(tensors=tensors_to_log, every_n_iter=50)"
   ]
  },
  {
   "cell_type": "code",
   "execution_count": 177,
   "metadata": {
    "scrolled": false
   },
   "outputs": [
    {
     "name": "stdout",
     "output_type": "stream",
     "text": [
      "Tensor(\"Reshape:0\", shape=(100, 154, 100, 2), dtype=float32)\n",
      "Tensor(\"conv2d/Relu:0\", shape=(100, 154, 100, 32), dtype=float32)\n",
      "Tensor(\"max_pooling2d/MaxPool:0\", shape=(100, 154, 50, 32), dtype=float32)\n",
      "Tensor(\"conv2d_2/Relu:0\", shape=(100, 154, 50, 8), dtype=float32)\n",
      "Tensor(\"max_pooling2d_2/MaxPool:0\", shape=(100, 154, 10, 8), dtype=float32)\n",
      "Tensor(\"conv2d_3/Relu:0\", shape=(100, 154, 10, 2), dtype=float32)\n",
      "Tensor(\"max_pooling2d_3/MaxPool:0\", shape=(100, 154, 2, 2), dtype=float32)\n",
      "Tensor(\"Reshape_1:0\", shape=(100, 616), dtype=float32)\n",
      "Tensor(\"dense/Relu:0\", shape=(100, 1024), dtype=float32)\n",
      "Tensor(\"dropout/dropout/mul:0\", shape=(100, 1024), dtype=float32)\n",
      "Tensor(\"dense_2/BiasAdd:0\", shape=(100, 154), dtype=float32)\n",
      "INFO:tensorflow:logits.dtype=<dtype: 'float32'>.\n"
     ]
    },
    {
     "name": "stderr",
     "output_type": "stream",
     "text": [
      "INFO:tensorflow:logits.dtype=<dtype: 'float32'>.\n"
     ]
    },
    {
     "name": "stdout",
     "output_type": "stream",
     "text": [
      "INFO:tensorflow:multi_class_labels.dtype=<dtype: 'float32'>.\n"
     ]
    },
    {
     "name": "stderr",
     "output_type": "stream",
     "text": [
      "INFO:tensorflow:multi_class_labels.dtype=<dtype: 'float32'>.\n"
     ]
    },
    {
     "name": "stdout",
     "output_type": "stream",
     "text": [
      "INFO:tensorflow:losses.dtype=<dtype: 'float32'>.\n"
     ]
    },
    {
     "name": "stderr",
     "output_type": "stream",
     "text": [
      "INFO:tensorflow:losses.dtype=<dtype: 'float32'>.\n"
     ]
    },
    {
     "name": "stdout",
     "output_type": "stream",
     "text": [
      "INFO:tensorflow:Create CheckpointSaverHook.\n"
     ]
    },
    {
     "name": "stderr",
     "output_type": "stream",
     "text": [
      "INFO:tensorflow:Create CheckpointSaverHook.\n"
     ]
    },
    {
     "name": "stdout",
     "output_type": "stream",
     "text": [
      "INFO:tensorflow:Saving checkpoints for 1 into ../tmp/stocks_convnet_model\\model.ckpt.\n"
     ]
    },
    {
     "name": "stderr",
     "output_type": "stream",
     "text": [
      "INFO:tensorflow:Saving checkpoints for 1 into ../tmp/stocks_convnet_model\\model.ckpt.\n"
     ]
    },
    {
     "name": "stdout",
     "output_type": "stream",
     "text": [
      "INFO:tensorflow:probabilities = [[ 0.00000001  0.          0.         ...,  0.0000081   0.          0.        ]\n",
      " [ 0.          0.          0.00227565 ...,  0.00000011  0.00000004  0.        ]\n",
      " [ 0.          0.00000007  0.         ...,  0.00000127  0.00000049  0.        ]\n",
      " ..., \n",
      " [ 0.00000007  0.00000004  0.00094024 ...,  0.00015707  0.          0.00000002]\n",
      " [ 0.          0.          0.00000021 ...,  0.00002585  0.          0.        ]\n",
      " [ 0.00000006  0.0000001   0.00000007 ...,  0.00000051  0.00000001  0.        ]]\n"
     ]
    },
    {
     "name": "stderr",
     "output_type": "stream",
     "text": [
      "INFO:tensorflow:probabilities = [[ 0.00000001  0.          0.         ...,  0.0000081   0.          0.        ]\n",
      " [ 0.          0.          0.00227565 ...,  0.00000011  0.00000004  0.        ]\n",
      " [ 0.          0.00000007  0.         ...,  0.00000127  0.00000049  0.        ]\n",
      " ..., \n",
      " [ 0.00000007  0.00000004  0.00094024 ...,  0.00015707  0.          0.00000002]\n",
      " [ 0.          0.          0.00000021 ...,  0.00002585  0.          0.        ]\n",
      " [ 0.00000006  0.0000001   0.00000007 ...,  0.00000051  0.00000001  0.        ]]\n"
     ]
    },
    {
     "name": "stdout",
     "output_type": "stream",
     "text": [
      "INFO:tensorflow:loss = 2.95649, step = 1\n"
     ]
    },
    {
     "name": "stderr",
     "output_type": "stream",
     "text": [
      "INFO:tensorflow:loss = 2.95649, step = 1\n"
     ]
    },
    {
     "name": "stdout",
     "output_type": "stream",
     "text": [
      "INFO:tensorflow:probabilities = [[ 0.00607102  0.0065328   0.00678274 ...,  0.00659171  0.0060561\n",
      "   0.00713493]\n",
      " [ 0.00669458  0.00673704  0.00763693 ...,  0.00767715  0.00649637\n",
      "   0.00658333]\n",
      " [ 0.00601321  0.00681468  0.00739401 ...,  0.00780188  0.00639     0.00759571]\n",
      " ..., \n",
      " [ 0.00637636  0.00669209  0.00681803 ...,  0.00722018  0.00644929\n",
      "   0.00667062]\n",
      " [ 0.0069506   0.0069789   0.00767942 ...,  0.00780529  0.00640949\n",
      "   0.007884  ]\n",
      " [ 0.00611288  0.00653343  0.00649507 ...,  0.00717771  0.00662098\n",
      "   0.00647082]] (343.705 sec)\n"
     ]
    },
    {
     "name": "stderr",
     "output_type": "stream",
     "text": [
      "INFO:tensorflow:probabilities = [[ 0.00607102  0.0065328   0.00678274 ...,  0.00659171  0.0060561\n",
      "   0.00713493]\n",
      " [ 0.00669458  0.00673704  0.00763693 ...,  0.00767715  0.00649637\n",
      "   0.00658333]\n",
      " [ 0.00601321  0.00681468  0.00739401 ...,  0.00780188  0.00639     0.00759571]\n",
      " ..., \n",
      " [ 0.00637636  0.00669209  0.00681803 ...,  0.00722018  0.00644929\n",
      "   0.00667062]\n",
      " [ 0.0069506   0.0069789   0.00767942 ...,  0.00780529  0.00640949\n",
      "   0.007884  ]\n",
      " [ 0.00611288  0.00653343  0.00649507 ...,  0.00717771  0.00662098\n",
      "   0.00647082]] (343.705 sec)\n"
     ]
    },
    {
     "name": "stdout",
     "output_type": "stream",
     "text": [
      "INFO:tensorflow:Saving checkpoints for 89 into ../tmp/stocks_convnet_model\\model.ckpt.\n"
     ]
    },
    {
     "name": "stderr",
     "output_type": "stream",
     "text": [
      "INFO:tensorflow:Saving checkpoints for 89 into ../tmp/stocks_convnet_model\\model.ckpt.\n"
     ]
    },
    {
     "name": "stdout",
     "output_type": "stream",
     "text": [
      "INFO:tensorflow:global_step/sec: 0.146649\n"
     ]
    },
    {
     "name": "stderr",
     "output_type": "stream",
     "text": [
      "INFO:tensorflow:global_step/sec: 0.146649\n"
     ]
    },
    {
     "name": "stdout",
     "output_type": "stream",
     "text": [
      "INFO:tensorflow:probabilities = [[ 0.00720781  0.00841199  0.00637891 ...,  0.00746943  0.00680983\n",
      "   0.00784931]\n",
      " [ 0.00684876  0.00702071  0.00664906 ...,  0.00686223  0.00641175\n",
      "   0.00687015]\n",
      " [ 0.00614825  0.00656922  0.00668887 ...,  0.00672946  0.00669105\n",
      "   0.00625476]\n",
      " ..., \n",
      " [ 0.00651339  0.00704138  0.0074136  ...,  0.00637534  0.00678813\n",
      "   0.00664864]\n",
      " [ 0.00670114  0.0062645   0.00655074 ...,  0.00692171  0.00624359\n",
      "   0.00632141]\n",
      " [ 0.00635563  0.00641708  0.00736156 ...,  0.00717467  0.00619158\n",
      "   0.00682173]] (338.194 sec)\n"
     ]
    },
    {
     "name": "stderr",
     "output_type": "stream",
     "text": [
      "INFO:tensorflow:probabilities = [[ 0.00720781  0.00841199  0.00637891 ...,  0.00746943  0.00680983\n",
      "   0.00784931]\n",
      " [ 0.00684876  0.00702071  0.00664906 ...,  0.00686223  0.00641175\n",
      "   0.00687015]\n",
      " [ 0.00614825  0.00656922  0.00668887 ...,  0.00672946  0.00669105\n",
      "   0.00625476]\n",
      " ..., \n",
      " [ 0.00651339  0.00704138  0.0074136  ...,  0.00637534  0.00678813\n",
      "   0.00664864]\n",
      " [ 0.00670114  0.0062645   0.00655074 ...,  0.00692171  0.00624359\n",
      "   0.00632141]\n",
      " [ 0.00635563  0.00641708  0.00736156 ...,  0.00717467  0.00619158\n",
      "   0.00682173]] (338.194 sec)\n"
     ]
    },
    {
     "name": "stdout",
     "output_type": "stream",
     "text": [
      "INFO:tensorflow:loss = 0.692233, step = 101 (681.899 sec)\n"
     ]
    },
    {
     "name": "stderr",
     "output_type": "stream",
     "text": [
      "INFO:tensorflow:loss = 0.692233, step = 101 (681.899 sec)\n"
     ]
    },
    {
     "name": "stdout",
     "output_type": "stream",
     "text": [
      "INFO:tensorflow:probabilities = [[ 0.00650032  0.00650058  0.00650574 ...,  0.00652124  0.00650915\n",
      "   0.00650336]\n",
      " [ 0.00648212  0.00680638  0.006727   ...,  0.00672354  0.00626736\n",
      "   0.00665791]\n",
      " [ 0.00685206  0.00779598  0.00703956 ...,  0.0066044   0.00628379\n",
      "   0.00782971]\n",
      " ..., \n",
      " [ 0.0067737   0.00645691  0.00631945 ...,  0.00682638  0.0067236\n",
      "   0.00660483]\n",
      " [ 0.00650481  0.0065917   0.00658447 ...,  0.00645238  0.0063665\n",
      "   0.00674244]\n",
      " [ 0.00674801  0.00675595  0.00673728 ...,  0.00682087  0.00650266\n",
      "   0.00650585]] (330.765 sec)\n"
     ]
    },
    {
     "name": "stderr",
     "output_type": "stream",
     "text": [
      "INFO:tensorflow:probabilities = [[ 0.00650032  0.00650058  0.00650574 ...,  0.00652124  0.00650915\n",
      "   0.00650336]\n",
      " [ 0.00648212  0.00680638  0.006727   ...,  0.00672354  0.00626736\n",
      "   0.00665791]\n",
      " [ 0.00685206  0.00779598  0.00703956 ...,  0.0066044   0.00628379\n",
      "   0.00782971]\n",
      " ..., \n",
      " [ 0.0067737   0.00645691  0.00631945 ...,  0.00682638  0.0067236\n",
      "   0.00660483]\n",
      " [ 0.00650481  0.0065917   0.00658447 ...,  0.00645238  0.0063665\n",
      "   0.00674244]\n",
      " [ 0.00674801  0.00675595  0.00673728 ...,  0.00682087  0.00650266\n",
      "   0.00650585]] (330.765 sec)\n"
     ]
    },
    {
     "name": "stdout",
     "output_type": "stream",
     "text": [
      "INFO:tensorflow:Saving checkpoints for 180 into ../tmp/stocks_convnet_model\\model.ckpt.\n"
     ]
    },
    {
     "name": "stderr",
     "output_type": "stream",
     "text": [
      "INFO:tensorflow:Saving checkpoints for 180 into ../tmp/stocks_convnet_model\\model.ckpt.\n"
     ]
    },
    {
     "name": "stdout",
     "output_type": "stream",
     "text": [
      "INFO:tensorflow:global_step/sec: 0.151069\n"
     ]
    },
    {
     "name": "stderr",
     "output_type": "stream",
     "text": [
      "INFO:tensorflow:global_step/sec: 0.151069\n"
     ]
    },
    {
     "name": "stdout",
     "output_type": "stream",
     "text": [
      "INFO:tensorflow:probabilities = [[ 0.00735867  0.0076697   0.00674543 ...,  0.00759926  0.00639039\n",
      "   0.00691549]\n",
      " [ 0.00670882  0.00648712  0.00650954 ...,  0.00675883  0.00644391\n",
      "   0.00671182]\n",
      " [ 0.0065912   0.007477    0.00635283 ...,  0.00764581  0.0053996\n",
      "   0.00753165]\n",
      " ..., \n",
      " [ 0.00692078  0.00579412  0.00750753 ...,  0.00810931  0.00617633\n",
      "   0.00710959]\n",
      " [ 0.00642557  0.00654024  0.00665973 ...,  0.00652855  0.00654587\n",
      "   0.00686276]\n",
      " [ 0.00654704  0.00643443  0.00689037 ...,  0.00655737  0.00672734\n",
      "   0.00715687]] (331.198 sec)\n"
     ]
    },
    {
     "name": "stderr",
     "output_type": "stream",
     "text": [
      "INFO:tensorflow:probabilities = [[ 0.00735867  0.0076697   0.00674543 ...,  0.00759926  0.00639039\n",
      "   0.00691549]\n",
      " [ 0.00670882  0.00648712  0.00650954 ...,  0.00675883  0.00644391\n",
      "   0.00671182]\n",
      " [ 0.0065912   0.007477    0.00635283 ...,  0.00764581  0.0053996\n",
      "   0.00753165]\n",
      " ..., \n",
      " [ 0.00692078  0.00579412  0.00750753 ...,  0.00810931  0.00617633\n",
      "   0.00710959]\n",
      " [ 0.00642557  0.00654024  0.00665973 ...,  0.00652855  0.00654587\n",
      "   0.00686276]\n",
      " [ 0.00654704  0.00643443  0.00689037 ...,  0.00655737  0.00672734\n",
      "   0.00715687]] (331.198 sec)\n"
     ]
    },
    {
     "name": "stdout",
     "output_type": "stream",
     "text": [
      "INFO:tensorflow:loss = 0.692986, step = 201 (661.955 sec)\n"
     ]
    },
    {
     "name": "stderr",
     "output_type": "stream",
     "text": [
      "INFO:tensorflow:loss = 0.692986, step = 201 (661.955 sec)\n"
     ]
    },
    {
     "name": "stdout",
     "output_type": "stream",
     "text": [
      "INFO:tensorflow:probabilities = [[ 0.00648461  0.00642441  0.00676927 ...,  0.00688031  0.00671914\n",
      "   0.00707742]\n",
      " [ 0.00705661  0.00683782  0.00736097 ...,  0.00752268  0.00618181\n",
      "   0.00751321]\n",
      " [ 0.00661328  0.00657513  0.00657368 ...,  0.00688588  0.0065075\n",
      "   0.0064059 ]\n",
      " ..., \n",
      " [ 0.00647788  0.0068433   0.00667291 ...,  0.00662237  0.0064653\n",
      "   0.00681542]\n",
      " [ 0.00652589  0.00650891  0.00668981 ...,  0.0067783   0.00646575\n",
      "   0.00662342]\n",
      " [ 0.00654253  0.00683875  0.00680775 ...,  0.00637721  0.006784    0.0068663 ]] (347.663 sec)\n"
     ]
    },
    {
     "name": "stderr",
     "output_type": "stream",
     "text": [
      "INFO:tensorflow:probabilities = [[ 0.00648461  0.00642441  0.00676927 ...,  0.00688031  0.00671914\n",
      "   0.00707742]\n",
      " [ 0.00705661  0.00683782  0.00736097 ...,  0.00752268  0.00618181\n",
      "   0.00751321]\n",
      " [ 0.00661328  0.00657513  0.00657368 ...,  0.00688588  0.0065075\n",
      "   0.0064059 ]\n",
      " ..., \n",
      " [ 0.00647788  0.0068433   0.00667291 ...,  0.00662237  0.0064653\n",
      "   0.00681542]\n",
      " [ 0.00652589  0.00650891  0.00668981 ...,  0.0067783   0.00646575\n",
      "   0.00662342]\n",
      " [ 0.00654253  0.00683875  0.00680775 ...,  0.00637721  0.006784    0.0068663 ]] (347.663 sec)\n"
     ]
    },
    {
     "name": "stdout",
     "output_type": "stream",
     "text": [
      "INFO:tensorflow:Saving checkpoints for 268 into ../tmp/stocks_convnet_model\\model.ckpt.\n"
     ]
    },
    {
     "name": "stderr",
     "output_type": "stream",
     "text": [
      "INFO:tensorflow:Saving checkpoints for 268 into ../tmp/stocks_convnet_model\\model.ckpt.\n"
     ]
    },
    {
     "name": "stdout",
     "output_type": "stream",
     "text": [
      "INFO:tensorflow:global_step/sec: 0.146566\n"
     ]
    },
    {
     "name": "stderr",
     "output_type": "stream",
     "text": [
      "INFO:tensorflow:global_step/sec: 0.146566\n"
     ]
    },
    {
     "name": "stdout",
     "output_type": "stream",
     "text": [
      "INFO:tensorflow:probabilities = [[ 0.00735109  0.00748829  0.00644348 ...,  0.00670518  0.00616657\n",
      "   0.00873134]\n",
      " [ 0.00658414  0.00679889  0.00649388 ...,  0.00657101  0.00651601\n",
      "   0.00684317]\n",
      " [ 0.00647479  0.00649078  0.0065153  ...,  0.00651754  0.0064944\n",
      "   0.00651425]\n",
      " ..., \n",
      " [ 0.00634538  0.00698911  0.00738685 ...,  0.00709401  0.00632612\n",
      "   0.00750856]\n",
      " [ 0.00665854  0.0066719   0.00709334 ...,  0.00677974  0.0065193\n",
      "   0.00693318]\n",
      " [ 0.00659662  0.00628475  0.00675205 ...,  0.00660567  0.00648467\n",
      "   0.00665631]] (334.622 sec)\n"
     ]
    },
    {
     "name": "stderr",
     "output_type": "stream",
     "text": [
      "INFO:tensorflow:probabilities = [[ 0.00735109  0.00748829  0.00644348 ...,  0.00670518  0.00616657\n",
      "   0.00873134]\n",
      " [ 0.00658414  0.00679889  0.00649388 ...,  0.00657101  0.00651601\n",
      "   0.00684317]\n",
      " [ 0.00647479  0.00649078  0.0065153  ...,  0.00651754  0.0064944\n",
      "   0.00651425]\n",
      " ..., \n",
      " [ 0.00634538  0.00698911  0.00738685 ...,  0.00709401  0.00632612\n",
      "   0.00750856]\n",
      " [ 0.00665854  0.0066719   0.00709334 ...,  0.00677974  0.0065193\n",
      "   0.00693318]\n",
      " [ 0.00659662  0.00628475  0.00675205 ...,  0.00660567  0.00648467\n",
      "   0.00665631]] (334.622 sec)\n"
     ]
    },
    {
     "name": "stdout",
     "output_type": "stream",
     "text": [
      "INFO:tensorflow:loss = 0.692605, step = 301 (682.281 sec)\n"
     ]
    },
    {
     "name": "stderr",
     "output_type": "stream",
     "text": [
      "INFO:tensorflow:loss = 0.692605, step = 301 (682.281 sec)\n"
     ]
    },
    {
     "name": "stdout",
     "output_type": "stream",
     "text": [
      "INFO:tensorflow:probabilities = [[ 0.00661947  0.00652728  0.00646943 ...,  0.00645065  0.00658151\n",
      "   0.00651391]\n",
      " [ 0.00656003  0.00654589  0.00671295 ...,  0.00711142  0.00658465\n",
      "   0.00690513]\n",
      " [ 0.00625519  0.00647703  0.00759504 ...,  0.00642469  0.00606934\n",
      "   0.00666867]\n",
      " ..., \n",
      " [ 0.00637966  0.00688838  0.00688946 ...,  0.00674917  0.00660153\n",
      "   0.00655944]\n",
      " [ 0.00669759  0.00659789  0.00675715 ...,  0.00650312  0.0062204\n",
      "   0.00680707]\n",
      " [ 0.0066233   0.00662589  0.00662537 ...,  0.00673611  0.0065681\n",
      "   0.0065541 ]] (328.577 sec)\n"
     ]
    },
    {
     "name": "stderr",
     "output_type": "stream",
     "text": [
      "INFO:tensorflow:probabilities = [[ 0.00661947  0.00652728  0.00646943 ...,  0.00645065  0.00658151\n",
      "   0.00651391]\n",
      " [ 0.00656003  0.00654589  0.00671295 ...,  0.00711142  0.00658465\n",
      "   0.00690513]\n",
      " [ 0.00625519  0.00647703  0.00759504 ...,  0.00642469  0.00606934\n",
      "   0.00666867]\n",
      " ..., \n",
      " [ 0.00637966  0.00688838  0.00688946 ...,  0.00674917  0.00660153\n",
      "   0.00655944]\n",
      " [ 0.00669759  0.00659789  0.00675715 ...,  0.00650312  0.0062204\n",
      "   0.00680707]\n",
      " [ 0.0066233   0.00662589  0.00662537 ...,  0.00673611  0.0065681\n",
      "   0.0065541 ]] (328.577 sec)\n"
     ]
    },
    {
     "name": "stdout",
     "output_type": "stream",
     "text": [
      "INFO:tensorflow:Saving checkpoints for 360 into ../tmp/stocks_convnet_model\\model.ckpt.\n"
     ]
    },
    {
     "name": "stderr",
     "output_type": "stream",
     "text": [
      "INFO:tensorflow:Saving checkpoints for 360 into ../tmp/stocks_convnet_model\\model.ckpt.\n"
     ]
    },
    {
     "name": "stdout",
     "output_type": "stream",
     "text": [
      "INFO:tensorflow:global_step/sec: 0.151013\n"
     ]
    },
    {
     "name": "stderr",
     "output_type": "stream",
     "text": [
      "INFO:tensorflow:global_step/sec: 0.151013\n"
     ]
    },
    {
     "name": "stdout",
     "output_type": "stream",
     "text": [
      "INFO:tensorflow:probabilities = [[ 0.00670178  0.00692483  0.00710243 ...,  0.006938    0.006045\n",
      "   0.00686896]\n",
      " [ 0.00657936  0.00656395  0.00685927 ...,  0.00653407  0.00672267\n",
      "   0.00685832]\n",
      " [ 0.00653735  0.0061896   0.00666461 ...,  0.00681087  0.00634827\n",
      "   0.00605301]\n",
      " ..., \n",
      " [ 0.00632338  0.00807077  0.00578797 ...,  0.00797392  0.00629104\n",
      "   0.00873601]\n",
      " [ 0.00635121  0.00648071  0.0068116  ...,  0.00686866  0.00633281\n",
      "   0.00624339]\n",
      " [ 0.00661224  0.0066362   0.00669072 ...,  0.00692211  0.00646727\n",
      "   0.00622706]] (333.605 sec)\n"
     ]
    },
    {
     "name": "stderr",
     "output_type": "stream",
     "text": [
      "INFO:tensorflow:probabilities = [[ 0.00670178  0.00692483  0.00710243 ...,  0.006938    0.006045\n",
      "   0.00686896]\n",
      " [ 0.00657936  0.00656395  0.00685927 ...,  0.00653407  0.00672267\n",
      "   0.00685832]\n",
      " [ 0.00653735  0.0061896   0.00666461 ...,  0.00681087  0.00634827\n",
      "   0.00605301]\n",
      " ..., \n",
      " [ 0.00632338  0.00807077  0.00578797 ...,  0.00797392  0.00629104\n",
      "   0.00873601]\n",
      " [ 0.00635121  0.00648071  0.0068116  ...,  0.00686866  0.00633281\n",
      "   0.00624339]\n",
      " [ 0.00661224  0.0066362   0.00669072 ...,  0.00692211  0.00646727\n",
      "   0.00622706]] (333.605 sec)\n"
     ]
    },
    {
     "name": "stdout",
     "output_type": "stream",
     "text": [
      "INFO:tensorflow:loss = 0.692168, step = 401 (662.193 sec)\n"
     ]
    },
    {
     "name": "stderr",
     "output_type": "stream",
     "text": [
      "INFO:tensorflow:loss = 0.692168, step = 401 (662.193 sec)\n"
     ]
    },
    {
     "name": "stdout",
     "output_type": "stream",
     "text": [
      "INFO:tensorflow:Saving checkpoints for 451 into ../tmp/stocks_convnet_model\\model.ckpt.\n"
     ]
    },
    {
     "name": "stderr",
     "output_type": "stream",
     "text": [
      "INFO:tensorflow:Saving checkpoints for 451 into ../tmp/stocks_convnet_model\\model.ckpt.\n"
     ]
    },
    {
     "name": "stdout",
     "output_type": "stream",
     "text": [
      "INFO:tensorflow:probabilities = [[ 0.00661791  0.00718269  0.00628124 ...,  0.00619495  0.00635431\n",
      "   0.0088736 ]\n",
      " [ 0.00726176  0.00712011  0.00654375 ...,  0.0068711   0.00621123\n",
      "   0.00744981]\n",
      " [ 0.00618138  0.00691916  0.00644353 ...,  0.00663554  0.00644449\n",
      "   0.0076973 ]\n",
      " ..., \n",
      " [ 0.00680669  0.00698179  0.00655298 ...,  0.00711314  0.0066755\n",
      "   0.0068805 ]\n",
      " [ 0.00711549  0.00773931  0.00702849 ...,  0.0073161   0.0057132\n",
      "   0.00814207]\n",
      " [ 0.00669837  0.0066685   0.00677811 ...,  0.00672146  0.0066993\n",
      "   0.00675807]] (330.715 sec)\n"
     ]
    },
    {
     "name": "stderr",
     "output_type": "stream",
     "text": [
      "INFO:tensorflow:probabilities = [[ 0.00661791  0.00718269  0.00628124 ...,  0.00619495  0.00635431\n",
      "   0.0088736 ]\n",
      " [ 0.00726176  0.00712011  0.00654375 ...,  0.0068711   0.00621123\n",
      "   0.00744981]\n",
      " [ 0.00618138  0.00691916  0.00644353 ...,  0.00663554  0.00644449\n",
      "   0.0076973 ]\n",
      " ..., \n",
      " [ 0.00680669  0.00698179  0.00655298 ...,  0.00711314  0.0066755\n",
      "   0.0068805 ]\n",
      " [ 0.00711549  0.00773931  0.00702849 ...,  0.0073161   0.0057132\n",
      "   0.00814207]\n",
      " [ 0.00669837  0.0066685   0.00677811 ...,  0.00672146  0.0066993\n",
      "   0.00675807]] (330.715 sec)\n"
     ]
    },
    {
     "name": "stdout",
     "output_type": "stream",
     "text": [
      "INFO:tensorflow:global_step/sec: 0.149697\n"
     ]
    },
    {
     "name": "stderr",
     "output_type": "stream",
     "text": [
      "INFO:tensorflow:global_step/sec: 0.149697\n"
     ]
    },
    {
     "name": "stdout",
     "output_type": "stream",
     "text": [
      "INFO:tensorflow:probabilities = [[ 0.00641716  0.00650579  0.00677646 ...,  0.0068965   0.00657684\n",
      "   0.0066596 ]\n",
      " [ 0.00643142  0.00706226  0.00695731 ...,  0.00728121  0.00626421\n",
      "   0.00695458]\n",
      " [ 0.00709764  0.0066644   0.00765986 ...,  0.00649608  0.00631163\n",
      "   0.00790919]\n",
      " ..., \n",
      " [ 0.00688374  0.00682166  0.00662467 ...,  0.00673891  0.00640376\n",
      "   0.00695784]\n",
      " [ 0.00596214  0.00682249  0.00663777 ...,  0.00658322  0.00585614\n",
      "   0.00799994]\n",
      " [ 0.00664961  0.0063947   0.00648371 ...,  0.00673704  0.00644829\n",
      "   0.00679027]] (337.309 sec)\n"
     ]
    },
    {
     "name": "stderr",
     "output_type": "stream",
     "text": [
      "INFO:tensorflow:probabilities = [[ 0.00641716  0.00650579  0.00677646 ...,  0.0068965   0.00657684\n",
      "   0.0066596 ]\n",
      " [ 0.00643142  0.00706226  0.00695731 ...,  0.00728121  0.00626421\n",
      "   0.00695458]\n",
      " [ 0.00709764  0.0066644   0.00765986 ...,  0.00649608  0.00631163\n",
      "   0.00790919]\n",
      " ..., \n",
      " [ 0.00688374  0.00682166  0.00662467 ...,  0.00673891  0.00640376\n",
      "   0.00695784]\n",
      " [ 0.00596214  0.00682249  0.00663777 ...,  0.00658322  0.00585614\n",
      "   0.00799994]\n",
      " [ 0.00664961  0.0063947   0.00648371 ...,  0.00673704  0.00644829\n",
      "   0.00679027]] (337.309 sec)\n"
     ]
    },
    {
     "name": "stdout",
     "output_type": "stream",
     "text": [
      "INFO:tensorflow:loss = 0.692759, step = 501 (668.015 sec)\n"
     ]
    },
    {
     "name": "stderr",
     "output_type": "stream",
     "text": [
      "INFO:tensorflow:loss = 0.692759, step = 501 (668.015 sec)\n"
     ]
    },
    {
     "name": "stdout",
     "output_type": "stream",
     "text": [
      "INFO:tensorflow:Saving checkpoints for 542 into ../tmp/stocks_convnet_model\\model.ckpt.\n"
     ]
    },
    {
     "name": "stderr",
     "output_type": "stream",
     "text": [
      "INFO:tensorflow:Saving checkpoints for 542 into ../tmp/stocks_convnet_model\\model.ckpt.\n"
     ]
    },
    {
     "name": "stdout",
     "output_type": "stream",
     "text": [
      "INFO:tensorflow:probabilities = [[ 0.00674433  0.00665215  0.00649482 ...,  0.00717549  0.00679856\n",
      "   0.00677365]\n",
      " [ 0.00655152  0.00653693  0.0064538  ...,  0.00673059  0.00621612\n",
      "   0.00675659]\n",
      " [ 0.00668583  0.00635301  0.00660507 ...,  0.0068327   0.00630998\n",
      "   0.00653398]\n",
      " ..., \n",
      " [ 0.00686736  0.00693514  0.006482   ...,  0.00665046  0.00645023\n",
      "   0.00685787]\n",
      " [ 0.00619303  0.00629825  0.00676151 ...,  0.00698535  0.00656457\n",
      "   0.00635002]\n",
      " [ 0.00662653  0.00684172  0.00656724 ...,  0.0073089   0.0063662\n",
      "   0.00669038]] (320.685 sec)\n"
     ]
    },
    {
     "name": "stderr",
     "output_type": "stream",
     "text": [
      "INFO:tensorflow:probabilities = [[ 0.00674433  0.00665215  0.00649482 ...,  0.00717549  0.00679856\n",
      "   0.00677365]\n",
      " [ 0.00655152  0.00653693  0.0064538  ...,  0.00673059  0.00621612\n",
      "   0.00675659]\n",
      " [ 0.00668583  0.00635301  0.00660507 ...,  0.0068327   0.00630998\n",
      "   0.00653398]\n",
      " ..., \n",
      " [ 0.00686736  0.00693514  0.006482   ...,  0.00665046  0.00645023\n",
      "   0.00685787]\n",
      " [ 0.00619303  0.00629825  0.00676151 ...,  0.00698535  0.00656457\n",
      "   0.00635002]\n",
      " [ 0.00662653  0.00684172  0.00656724 ...,  0.0073089   0.0063662\n",
      "   0.00669038]] (320.685 sec)\n"
     ]
    },
    {
     "name": "stdout",
     "output_type": "stream",
     "text": [
      "INFO:tensorflow:global_step/sec: 0.154249\n"
     ]
    },
    {
     "name": "stderr",
     "output_type": "stream",
     "text": [
      "INFO:tensorflow:global_step/sec: 0.154249\n"
     ]
    },
    {
     "name": "stdout",
     "output_type": "stream",
     "text": [
      "INFO:tensorflow:probabilities = [[ 0.00622966  0.00645104  0.00666405 ...,  0.00677011  0.0064773\n",
      "   0.00713854]\n",
      " [ 0.00638511  0.00673295  0.00672818 ...,  0.00652792  0.0064315\n",
      "   0.00664389]\n",
      " [ 0.00598994  0.00703186  0.00681091 ...,  0.00699632  0.00580411\n",
      "   0.00701046]\n",
      " ..., \n",
      " [ 0.00650114  0.00683749  0.00672818 ...,  0.00660721  0.00648592\n",
      "   0.00659404]\n",
      " [ 0.00681082  0.00766624  0.0072283  ...,  0.00697979  0.00601745\n",
      "   0.0075185 ]\n",
      " [ 0.00642066  0.00636163  0.00658474 ...,  0.00669239  0.00651381\n",
      "   0.00651152]] (327.610 sec)\n"
     ]
    },
    {
     "name": "stderr",
     "output_type": "stream",
     "text": [
      "INFO:tensorflow:probabilities = [[ 0.00622966  0.00645104  0.00666405 ...,  0.00677011  0.0064773\n",
      "   0.00713854]\n",
      " [ 0.00638511  0.00673295  0.00672818 ...,  0.00652792  0.0064315\n",
      "   0.00664389]\n",
      " [ 0.00598994  0.00703186  0.00681091 ...,  0.00699632  0.00580411\n",
      "   0.00701046]\n",
      " ..., \n",
      " [ 0.00650114  0.00683749  0.00672818 ...,  0.00660721  0.00648592\n",
      "   0.00659404]\n",
      " [ 0.00681082  0.00766624  0.0072283  ...,  0.00697979  0.00601745\n",
      "   0.0075185 ]\n",
      " [ 0.00642066  0.00636163  0.00658474 ...,  0.00669239  0.00651381\n",
      "   0.00651152]] (327.610 sec)\n"
     ]
    },
    {
     "name": "stdout",
     "output_type": "stream",
     "text": [
      "INFO:tensorflow:loss = 0.692259, step = 601 (648.305 sec)\n"
     ]
    },
    {
     "name": "stderr",
     "output_type": "stream",
     "text": [
      "INFO:tensorflow:loss = 0.692259, step = 601 (648.305 sec)\n"
     ]
    },
    {
     "name": "stdout",
     "output_type": "stream",
     "text": [
      "INFO:tensorflow:Saving checkpoints for 635 into ../tmp/stocks_convnet_model\\model.ckpt.\n"
     ]
    },
    {
     "name": "stderr",
     "output_type": "stream",
     "text": [
      "INFO:tensorflow:Saving checkpoints for 635 into ../tmp/stocks_convnet_model\\model.ckpt.\n"
     ]
    },
    {
     "name": "stdout",
     "output_type": "stream",
     "text": [
      "INFO:tensorflow:probabilities = [[ 0.00649003  0.00648443  0.00646999 ...,  0.0070515   0.00653796\n",
      "   0.00633727]\n",
      " [ 0.00659432  0.00655995  0.00659986 ...,  0.00670553  0.00627309\n",
      "   0.00648374]\n",
      " [ 0.0064819   0.00648594  0.00648106 ...,  0.00655786  0.00649468\n",
      "   0.00645731]\n",
      " ..., \n",
      " [ 0.00642626  0.00672738  0.00660304 ...,  0.00668904  0.0063704\n",
      "   0.00702184]\n",
      " [ 0.00603527  0.00645603  0.00668932 ...,  0.00683027  0.00681661\n",
      "   0.006069  ]\n",
      " [ 0.00646539  0.00672039  0.00681461 ...,  0.00661174  0.00686134\n",
      "   0.00698826]] (324.322 sec)\n"
     ]
    },
    {
     "name": "stderr",
     "output_type": "stream",
     "text": [
      "INFO:tensorflow:probabilities = [[ 0.00649003  0.00648443  0.00646999 ...,  0.0070515   0.00653796\n",
      "   0.00633727]\n",
      " [ 0.00659432  0.00655995  0.00659986 ...,  0.00670553  0.00627309\n",
      "   0.00648374]\n",
      " [ 0.0064819   0.00648594  0.00648106 ...,  0.00655786  0.00649468\n",
      "   0.00645731]\n",
      " ..., \n",
      " [ 0.00642626  0.00672738  0.00660304 ...,  0.00668904  0.0063704\n",
      "   0.00702184]\n",
      " [ 0.00603527  0.00645603  0.00668932 ...,  0.00683027  0.00681661\n",
      "   0.006069  ]\n",
      " [ 0.00646539  0.00672039  0.00681461 ...,  0.00661174  0.00686134\n",
      "   0.00698826]] (324.322 sec)\n"
     ]
    },
    {
     "name": "stdout",
     "output_type": "stream",
     "text": [
      "INFO:tensorflow:global_step/sec: 0.156198\n"
     ]
    },
    {
     "name": "stderr",
     "output_type": "stream",
     "text": [
      "INFO:tensorflow:global_step/sec: 0.156198\n"
     ]
    },
    {
     "name": "stdout",
     "output_type": "stream",
     "text": [
      "INFO:tensorflow:probabilities = [[ 0.00599057  0.00693209  0.00681914 ...,  0.00656101  0.00651245\n",
      "   0.00628543]\n",
      " [ 0.00639373  0.00670016  0.00665549 ...,  0.00664531  0.00649571\n",
      "   0.00700157]\n",
      " [ 0.00650664  0.00677105  0.0065746  ...,  0.00666697  0.00623418\n",
      "   0.00751976]\n",
      " ..., \n",
      " [ 0.00726373  0.0071741   0.00761571 ...,  0.00676862  0.00638941\n",
      "   0.00721598]\n",
      " [ 0.00695503  0.00909792  0.00684231 ...,  0.00701159  0.00599085\n",
      "   0.0074792 ]\n",
      " [ 0.00668861  0.00682125  0.00685299 ...,  0.00705287  0.0060166\n",
      "   0.00679206]] (315.900 sec)\n"
     ]
    },
    {
     "name": "stderr",
     "output_type": "stream",
     "text": [
      "INFO:tensorflow:probabilities = [[ 0.00599057  0.00693209  0.00681914 ...,  0.00656101  0.00651245\n",
      "   0.00628543]\n",
      " [ 0.00639373  0.00670016  0.00665549 ...,  0.00664531  0.00649571\n",
      "   0.00700157]\n",
      " [ 0.00650664  0.00677105  0.0065746  ...,  0.00666697  0.00623418\n",
      "   0.00751976]\n",
      " ..., \n",
      " [ 0.00726373  0.0071741   0.00761571 ...,  0.00676862  0.00638941\n",
      "   0.00721598]\n",
      " [ 0.00695503  0.00909792  0.00684231 ...,  0.00701159  0.00599085\n",
      "   0.0074792 ]\n",
      " [ 0.00668861  0.00682125  0.00685299 ...,  0.00705287  0.0060166\n",
      "   0.00679206]] (315.900 sec)\n"
     ]
    },
    {
     "name": "stdout",
     "output_type": "stream",
     "text": [
      "INFO:tensorflow:loss = 0.692109, step = 701 (640.209 sec)\n"
     ]
    },
    {
     "name": "stderr",
     "output_type": "stream",
     "text": [
      "INFO:tensorflow:loss = 0.692109, step = 701 (640.209 sec)\n"
     ]
    },
    {
     "name": "stdout",
     "output_type": "stream",
     "text": [
      "INFO:tensorflow:Saving checkpoints for 730 into ../tmp/stocks_convnet_model\\model.ckpt.\n"
     ]
    },
    {
     "name": "stderr",
     "output_type": "stream",
     "text": [
      "INFO:tensorflow:Saving checkpoints for 730 into ../tmp/stocks_convnet_model\\model.ckpt.\n"
     ]
    },
    {
     "name": "stdout",
     "output_type": "stream",
     "text": [
      "INFO:tensorflow:probabilities = [[ 0.00671306  0.00681586  0.00635605 ...,  0.00690501  0.00633385\n",
      "   0.00706547]\n",
      " [ 0.00630632  0.00656203  0.00636166 ...,  0.00668418  0.00655033\n",
      "   0.00653815]\n",
      " [ 0.00665363  0.00661304  0.00636443 ...,  0.00692895  0.00653985\n",
      "   0.00702305]\n",
      " ..., \n",
      " [ 0.00738326  0.0065314   0.00720684 ...,  0.00745743  0.00552928\n",
      "   0.0075331 ]\n",
      " [ 0.00653753  0.00741825  0.00769971 ...,  0.00626284  0.00652575\n",
      "   0.00640038]\n",
      " [ 0.00642407  0.00777847  0.00673284 ...,  0.00668343  0.00606543\n",
      "   0.00724777]] (324.332 sec)\n"
     ]
    },
    {
     "name": "stderr",
     "output_type": "stream",
     "text": [
      "INFO:tensorflow:probabilities = [[ 0.00671306  0.00681586  0.00635605 ...,  0.00690501  0.00633385\n",
      "   0.00706547]\n",
      " [ 0.00630632  0.00656203  0.00636166 ...,  0.00668418  0.00655033\n",
      "   0.00653815]\n",
      " [ 0.00665363  0.00661304  0.00636443 ...,  0.00692895  0.00653985\n",
      "   0.00702305]\n",
      " ..., \n",
      " [ 0.00738326  0.0065314   0.00720684 ...,  0.00745743  0.00552928\n",
      "   0.0075331 ]\n",
      " [ 0.00653753  0.00741825  0.00769971 ...,  0.00626284  0.00652575\n",
      "   0.00640038]\n",
      " [ 0.00642407  0.00777847  0.00673284 ...,  0.00668343  0.00606543\n",
      "   0.00724777]] (324.332 sec)\n"
     ]
    },
    {
     "name": "stdout",
     "output_type": "stream",
     "text": [
      "INFO:tensorflow:global_step/sec: 0.152264\n"
     ]
    },
    {
     "name": "stderr",
     "output_type": "stream",
     "text": [
      "INFO:tensorflow:global_step/sec: 0.152264\n"
     ]
    },
    {
     "name": "stdout",
     "output_type": "stream",
     "text": [
      "INFO:tensorflow:probabilities = [[ 0.00677794  0.00682817  0.00644697 ...,  0.00662271  0.00658137\n",
      "   0.00698789]\n",
      " [ 0.00657905  0.00674553  0.00708152 ...,  0.00675125  0.00681839\n",
      "   0.00739425]\n",
      " [ 0.00646261  0.00680584  0.00673297 ...,  0.00670417  0.00635432\n",
      "   0.00592327]\n",
      " ..., \n",
      " [ 0.0065968   0.00688867  0.00662221 ...,  0.00623859  0.00604817\n",
      "   0.00723221]\n",
      " [ 0.00661511  0.00723759  0.00743168 ...,  0.00767126  0.00608243\n",
      "   0.00669665]\n",
      " [ 0.00646133  0.00669917  0.00696252 ...,  0.00674237  0.00635426\n",
      "   0.00677083]] (332.431 sec)\n"
     ]
    },
    {
     "name": "stderr",
     "output_type": "stream",
     "text": [
      "INFO:tensorflow:probabilities = [[ 0.00677794  0.00682817  0.00644697 ...,  0.00662271  0.00658137\n",
      "   0.00698789]\n",
      " [ 0.00657905  0.00674553  0.00708152 ...,  0.00675125  0.00681839\n",
      "   0.00739425]\n",
      " [ 0.00646261  0.00680584  0.00673297 ...,  0.00670417  0.00635432\n",
      "   0.00592327]\n",
      " ..., \n",
      " [ 0.0065968   0.00688867  0.00662221 ...,  0.00623859  0.00604817\n",
      "   0.00723221]\n",
      " [ 0.00661511  0.00723759  0.00743168 ...,  0.00767126  0.00608243\n",
      "   0.00669665]\n",
      " [ 0.00646133  0.00669917  0.00696252 ...,  0.00674237  0.00635426\n",
      "   0.00677083]] (332.431 sec)\n"
     ]
    },
    {
     "name": "stdout",
     "output_type": "stream",
     "text": [
      "INFO:tensorflow:loss = 0.692208, step = 801 (656.768 sec)\n"
     ]
    },
    {
     "name": "stderr",
     "output_type": "stream",
     "text": [
      "INFO:tensorflow:loss = 0.692208, step = 801 (656.768 sec)\n"
     ]
    },
    {
     "name": "stdout",
     "output_type": "stream",
     "text": [
      "INFO:tensorflow:Saving checkpoints for 820 into ../tmp/stocks_convnet_model\\model.ckpt.\n"
     ]
    },
    {
     "name": "stderr",
     "output_type": "stream",
     "text": [
      "INFO:tensorflow:Saving checkpoints for 820 into ../tmp/stocks_convnet_model\\model.ckpt.\n"
     ]
    },
    {
     "name": "stdout",
     "output_type": "stream",
     "text": [
      "INFO:tensorflow:probabilities = [[ 0.00666606  0.00801982  0.01096581 ...,  0.00626042  0.00654323\n",
      "   0.00743582]\n",
      " [ 0.00666922  0.00658408  0.00715687 ...,  0.00658461  0.00642144\n",
      "   0.0068471 ]\n",
      " [ 0.00866286  0.00781451  0.00760749 ...,  0.00644685  0.00563892\n",
      "   0.00578375]\n",
      " ..., \n",
      " [ 0.00644249  0.0067082   0.00643089 ...,  0.00645652  0.00673796\n",
      "   0.00645125]\n",
      " [ 0.00637495  0.00560817  0.00723165 ...,  0.00619749  0.00619532\n",
      "   0.00757479]\n",
      " [ 0.00640701  0.006478    0.00659616 ...,  0.00671203  0.00643668\n",
      "   0.00676397]] (323.050 sec)\n"
     ]
    },
    {
     "name": "stderr",
     "output_type": "stream",
     "text": [
      "INFO:tensorflow:probabilities = [[ 0.00666606  0.00801982  0.01096581 ...,  0.00626042  0.00654323\n",
      "   0.00743582]\n",
      " [ 0.00666922  0.00658408  0.00715687 ...,  0.00658461  0.00642144\n",
      "   0.0068471 ]\n",
      " [ 0.00866286  0.00781451  0.00760749 ...,  0.00644685  0.00563892\n",
      "   0.00578375]\n",
      " ..., \n",
      " [ 0.00644249  0.0067082   0.00643089 ...,  0.00645652  0.00673796\n",
      "   0.00645125]\n",
      " [ 0.00637495  0.00560817  0.00723165 ...,  0.00619749  0.00619532\n",
      "   0.00757479]\n",
      " [ 0.00640701  0.006478    0.00659616 ...,  0.00671203  0.00643668\n",
      "   0.00676397]] (323.050 sec)\n"
     ]
    },
    {
     "name": "stdout",
     "output_type": "stream",
     "text": [
      "INFO:tensorflow:global_step/sec: 0.153867\n"
     ]
    },
    {
     "name": "stderr",
     "output_type": "stream",
     "text": [
      "INFO:tensorflow:global_step/sec: 0.153867\n"
     ]
    },
    {
     "name": "stdout",
     "output_type": "stream",
     "text": [
      "INFO:tensorflow:probabilities = [[ 0.00663225  0.00652699  0.00686759 ...,  0.00660996  0.00641169\n",
      "   0.00678275]\n",
      " [ 0.00718503  0.00801445  0.00744861 ...,  0.00715669  0.0059127\n",
      "   0.00803704]\n",
      " [ 0.00666576  0.00664104  0.00678009 ...,  0.00607057  0.00642435\n",
      "   0.00694442]\n",
      " ..., \n",
      " [ 0.00639383  0.00660757  0.00687918 ...,  0.00667068  0.0068356\n",
      "   0.00666115]\n",
      " [ 0.00693995  0.00818542  0.00611322 ...,  0.00634452  0.00525532\n",
      "   0.00696925]\n",
      " [ 0.00642135  0.00678815  0.00662159 ...,  0.00679422  0.00660031\n",
      "   0.00622083]] (326.853 sec)\n"
     ]
    },
    {
     "name": "stderr",
     "output_type": "stream",
     "text": [
      "INFO:tensorflow:probabilities = [[ 0.00663225  0.00652699  0.00686759 ...,  0.00660996  0.00641169\n",
      "   0.00678275]\n",
      " [ 0.00718503  0.00801445  0.00744861 ...,  0.00715669  0.0059127\n",
      "   0.00803704]\n",
      " [ 0.00666576  0.00664104  0.00678009 ...,  0.00607057  0.00642435\n",
      "   0.00694442]\n",
      " ..., \n",
      " [ 0.00639383  0.00660757  0.00687918 ...,  0.00667068  0.0068356\n",
      "   0.00666115]\n",
      " [ 0.00693995  0.00818542  0.00611322 ...,  0.00634452  0.00525532\n",
      "   0.00696925]\n",
      " [ 0.00642135  0.00678815  0.00662159 ...,  0.00679422  0.00660031\n",
      "   0.00622083]] (326.853 sec)\n"
     ]
    },
    {
     "name": "stdout",
     "output_type": "stream",
     "text": [
      "INFO:tensorflow:loss = 0.692859, step = 901 (649.900 sec)\n"
     ]
    },
    {
     "name": "stderr",
     "output_type": "stream",
     "text": [
      "INFO:tensorflow:loss = 0.692859, step = 901 (649.900 sec)\n"
     ]
    },
    {
     "name": "stdout",
     "output_type": "stream",
     "text": [
      "INFO:tensorflow:Saving checkpoints for 913 into ../tmp/stocks_convnet_model\\model.ckpt.\n"
     ]
    },
    {
     "name": "stderr",
     "output_type": "stream",
     "text": [
      "INFO:tensorflow:Saving checkpoints for 913 into ../tmp/stocks_convnet_model\\model.ckpt.\n"
     ]
    },
    {
     "name": "stdout",
     "output_type": "stream",
     "text": [
      "INFO:tensorflow:probabilities = [[ 0.00660419  0.00660972  0.00696774 ...,  0.00687925  0.00660178\n",
      "   0.00679344]\n",
      " [ 0.0084503   0.00739729  0.0057889  ...,  0.00751557  0.00567843\n",
      "   0.00680072]\n",
      " [ 0.00656769  0.0067173   0.00648431 ...,  0.00684262  0.00647919\n",
      "   0.00597424]\n",
      " ..., \n",
      " [ 0.00667643  0.00767868  0.0068862  ...,  0.00647319  0.00645448\n",
      "   0.00685304]\n",
      " [ 0.00709825  0.00675711  0.00656824 ...,  0.00609003  0.00599348\n",
      "   0.00789256]\n",
      " [ 0.0068777   0.00667402  0.00657188 ...,  0.00642477  0.00643214\n",
      "   0.00686786]] (322.752 sec)\n"
     ]
    },
    {
     "name": "stderr",
     "output_type": "stream",
     "text": [
      "INFO:tensorflow:probabilities = [[ 0.00660419  0.00660972  0.00696774 ...,  0.00687925  0.00660178\n",
      "   0.00679344]\n",
      " [ 0.0084503   0.00739729  0.0057889  ...,  0.00751557  0.00567843\n",
      "   0.00680072]\n",
      " [ 0.00656769  0.0067173   0.00648431 ...,  0.00684262  0.00647919\n",
      "   0.00597424]\n",
      " ..., \n",
      " [ 0.00667643  0.00767868  0.0068862  ...,  0.00647319  0.00645448\n",
      "   0.00685304]\n",
      " [ 0.00709825  0.00675711  0.00656824 ...,  0.00609003  0.00599348\n",
      "   0.00789256]\n",
      " [ 0.0068777   0.00667402  0.00657188 ...,  0.00642477  0.00643214\n",
      "   0.00686786]] (322.752 sec)\n"
     ]
    },
    {
     "name": "stdout",
     "output_type": "stream",
     "text": [
      "INFO:tensorflow:Saving checkpoints for 1000 into ../tmp/stocks_convnet_model\\model.ckpt.\n"
     ]
    },
    {
     "name": "stderr",
     "output_type": "stream",
     "text": [
      "INFO:tensorflow:Saving checkpoints for 1000 into ../tmp/stocks_convnet_model\\model.ckpt.\n"
     ]
    },
    {
     "name": "stdout",
     "output_type": "stream",
     "text": [
      "INFO:tensorflow:Loss for final step: 0.692146.\n"
     ]
    },
    {
     "name": "stderr",
     "output_type": "stream",
     "text": [
      "INFO:tensorflow:Loss for final step: 0.692146.\n"
     ]
    },
    {
     "data": {
      "text/plain": [
       "<tensorflow.python.estimator.estimator.Estimator at 0x17a9c3daa20>"
      ]
     },
     "execution_count": 177,
     "metadata": {},
     "output_type": "execute_result"
    }
   ],
   "source": [
    "# Train the model\n",
    "train_input_fn = tf.estimator.inputs.numpy_input_fn(\n",
    "    x={\"x\": train_features},\n",
    "    y=train_labels,\n",
    "    batch_size=100,\n",
    "    num_epochs=None,\n",
    "    shuffle=True)\n",
    "\n",
    "stocks_classifier.train(\n",
    "    input_fn=train_input_fn,\n",
    "    steps=1000,\n",
    "    hooks=[logging_hook])"
   ]
  },
  {
   "cell_type": "markdown",
   "metadata": {},
   "source": [
    "<h3> Model Evaluation </h3>"
   ]
  },
  {
   "cell_type": "code",
   "execution_count": 258,
   "metadata": {
    "scrolled": false
   },
   "outputs": [
    {
     "name": "stdout",
     "output_type": "stream",
     "text": [
      "Tensor(\"Reshape:0\", shape=(?, 154, 100, 2), dtype=float32)\n",
      "Tensor(\"conv2d/Relu:0\", shape=(?, 154, 100, 32), dtype=float32)\n",
      "Tensor(\"max_pooling2d/MaxPool:0\", shape=(?, 154, 50, 32), dtype=float32)\n",
      "Tensor(\"conv2d_2/Relu:0\", shape=(?, 154, 50, 8), dtype=float32)\n",
      "Tensor(\"max_pooling2d_2/MaxPool:0\", shape=(?, 154, 10, 8), dtype=float32)\n",
      "Tensor(\"conv2d_3/Relu:0\", shape=(?, 154, 10, 2), dtype=float32)\n",
      "Tensor(\"max_pooling2d_3/MaxPool:0\", shape=(?, 154, 2, 2), dtype=float32)\n",
      "Tensor(\"Reshape_1:0\", shape=(?, 616), dtype=float32)\n",
      "Tensor(\"dense/Relu:0\", shape=(?, 1024), dtype=float32)\n",
      "Tensor(\"dropout/Identity:0\", shape=(?, 1024), dtype=float32)\n",
      "Tensor(\"dense_2/BiasAdd:0\", shape=(?, 154), dtype=float32)\n",
      "INFO:tensorflow:Restoring parameters from ../tmp/stocks_convnet_model\\model.ckpt-1000\n"
     ]
    },
    {
     "name": "stderr",
     "output_type": "stream",
     "text": [
      "INFO:tensorflow:Restoring parameters from ../tmp/stocks_convnet_model\\model.ckpt-1000\n"
     ]
    },
    {
     "name": "stdout",
     "output_type": "stream",
     "text": [
      "1.11174054446\n"
     ]
    }
   ],
   "source": [
    "eval_input_fn = tf.estimator.inputs.numpy_input_fn(\n",
    "    x={\"x\": test_features},\n",
    "    y=test_labels,\n",
    "    num_epochs=1,\n",
    "    shuffle=False)\n",
    "\n",
    "eval_results = stocks_classifier.predict(input_fn=eval_input_fn)\n",
    "\n",
    "N = 5\n",
    "capital = 1\n",
    "for i, r in enumerate(eval_results):\n",
    "    top_n = r['probabilities'].argsort()[-N:][::-1]\n",
    "    allocation = [0 for x in perc_var[i]]\n",
    "    for j, t in enumerate(top_n):\n",
    "        allocation[t] = capital / N\n",
    "        \n",
    "    variation = allocation + (allocation * perc_var[i]) \n",
    "    capital = variation.sum()\n",
    "    \n",
    "        \n",
    "print(capital)"
   ]
  }
 ],
 "metadata": {
  "kernelspec": {
   "display_name": "Python 3",
   "language": "python",
   "name": "python3"
  },
  "language_info": {
   "codemirror_mode": {
    "name": "ipython",
    "version": 3
   },
   "file_extension": ".py",
   "mimetype": "text/x-python",
   "name": "python",
   "nbconvert_exporter": "python",
   "pygments_lexer": "ipython3",
   "version": "3.6.3"
  }
 },
 "nbformat": 4,
 "nbformat_minor": 2
}
