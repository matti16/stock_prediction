{
 "cells": [
  {
   "cell_type": "markdown",
   "metadata": {},
   "source": [
    "Date Crawl Heatlhcare: 21/10/2017"
   ]
  },
  {
   "cell_type": "markdown",
   "metadata": {},
   "source": [
    "<h3> Utils </h3>"
   ]
  },
  {
   "cell_type": "code",
   "execution_count": 1,
   "metadata": {
    "collapsed": true
   },
   "outputs": [],
   "source": [
    "execfile(\"utils.py\")"
   ]
  },
  {
   "cell_type": "code",
   "execution_count": 2,
   "metadata": {
    "collapsed": true
   },
   "outputs": [],
   "source": [
    "sector = \"healthcare\""
   ]
  },
  {
   "cell_type": "markdown",
   "metadata": {},
   "source": [
    "<h3> News Data </h3>"
   ]
  },
  {
   "cell_type": "code",
   "execution_count": 8,
   "metadata": {
    "collapsed": true
   },
   "outputs": [],
   "source": [
    "def get_news(ticker, sector):\n",
    "    response = intrinio_api_request(ticker)\n",
    "    response_to_file(response, os.path.join(\"..\", \"data\", sector, \"news\", ticker + \".csv\"))\n",
    "    \n",
    "def all_news_sector(sector):\n",
    "    tickers = load_tickers(sector)\n",
    "    map(lambda x: get_news(x, sector), tickers)"
   ]
  },
  {
   "cell_type": "code",
   "execution_count": null,
   "metadata": {
    "collapsed": true
   },
   "outputs": [],
   "source": [
    "all_news_sector(sector)"
   ]
  },
  {
   "cell_type": "markdown",
   "metadata": {},
   "source": [
    "<h3> Google Finance Historical Data </h3>"
   ]
  },
  {
   "cell_type": "code",
   "execution_count": 23,
   "metadata": {
    "collapsed": true
   },
   "outputs": [],
   "source": [
    "def get_stock_tick(ticker, sector):\n",
    "    try:\n",
    "        response = google_request(ticker)\n",
    "        response_to_file(response, os.path.join(\"..\", \"data\", sector, \"stocks\", ticker + \".csv\"))\n",
    "    except:\n",
    "        print \"Error\"  \n",
    "\n",
    "def all_stocks_sector(sector):\n",
    "    tickers = load_tickers(sector)\n",
    "    map(lambda x: get_stock_tick(x, sector), tickers)"
   ]
  },
  {
   "cell_type": "code",
   "execution_count": 24,
   "metadata": {
    "collapsed": true
   },
   "outputs": [
    {
     "name": "stdout",
     "output_type": "stream",
     "text": [
      "https://finance.google.com/finance/historical?q=AGN&startdate=Jan%201,%202014&output=csv\n",
      "Error\n",
      "https://finance.google.com/finance/historical?q=NVRO&startdate=Jan%201,%202014&output=csv\n",
      "https://finance.google.com/finance/historical?q=NUVA&startdate=Jan%201,%202014&output=csv\n",
      "https://finance.google.com/finance/historical?q=NBIX&startdate=Jan%201,%202014&output=csv\n",
      "https://finance.google.com/finance/historical?q=MGLN&startdate=Jan%201,%202014&output=csv\n",
      "https://finance.google.com/finance/historical?q=AAAP&startdate=Jan%201,%202014&output=csv\n",
      "https://finance.google.com/finance/historical?q=XON&startdate=Jan%201,%202014&output=csv\n",
      "https://finance.google.com/finance/historical?q=ALKS&startdate=Jan%201,%202014&output=csv\n",
      "https://finance.google.com/finance/historical?q=DVA&startdate=Jan%201,%202014&output=csv\n",
      "https://finance.google.com/finance/historical?q=AMGN&startdate=Jan%201,%202014&output=csv\n",
      "https://finance.google.com/finance/historical?q=EVHC&startdate=Jan%201,%202014&output=csv\n",
      "https://finance.google.com/finance/historical?q=VAR&startdate=Jan%201,%202014&output=csv\n",
      "https://finance.google.com/finance/historical?q=PEN&startdate=Jan%201,%202014&output=csv\n",
      "https://finance.google.com/finance/historical?q=IDXX&startdate=Jan%201,%202014&output=csv\n",
      "https://finance.google.com/finance/historical?q=MASI&startdate=Jan%201,%202014&output=csv\n",
      "https://finance.google.com/finance/historical?q=PBH&startdate=Jan%201,%202014&output=csv\n",
      "https://finance.google.com/finance/historical?q=AGIO&startdate=Jan%201,%202014&output=csv\n",
      "https://finance.google.com/finance/historical?q=GSK&startdate=Jan%201,%202014&output=csv\n",
      "https://finance.google.com/finance/historical?q=TIG&startdate=Jan%201,%202014&output=csv\n",
      "https://finance.google.com/finance/historical?q=CLVS&startdate=Jan%201,%202014&output=csv\n",
      "https://finance.google.com/finance/historical?q=BCR&startdate=Jan%201,%202014&output=csv\n",
      "https://finance.google.com/finance/historical?q=HCSG&startdate=Jan%201,%202014&output=csv\n",
      "https://finance.google.com/finance/historical?q=BLUE&startdate=Jan%201,%202014&output=csv\n",
      "https://finance.google.com/finance/historical?q=AVXS&startdate=Jan%201,%202014&output=csv\n",
      "https://finance.google.com/finance/historical?q=BSX&startdate=Jan%201,%202014&output=csv\n",
      "https://finance.google.com/finance/historical?q=JUNO&startdate=Jan%201,%202014&output=csv\n",
      "https://finance.google.com/finance/historical?q=LPNT&startdate=Jan%201,%202014&output=csv\n",
      "https://finance.google.com/finance/historical?q=BPMC&startdate=Jan%201,%202014&output=csv\n",
      "https://finance.google.com/finance/historical?q=VRX&startdate=Jan%201,%202014&output=csv\n",
      "https://finance.google.com/finance/historical?q=NUS&startdate=Jan%201,%202014&output=csv\n",
      "Error\n",
      "https://finance.google.com/finance/historical?q=GWPH&startdate=Jan%201,%202014&output=csv\n",
      "https://finance.google.com/finance/historical?q=ZBH&startdate=Jan%201,%202014&output=csv\n",
      "https://finance.google.com/finance/historical?q=VRTX&startdate=Jan%201,%202014&output=csv\n",
      "https://finance.google.com/finance/historical?q=TARO&startdate=Jan%201,%202014&output=csv\n",
      "https://finance.google.com/finance/historical?q=TECH&startdate=Jan%201,%202014&output=csv\n",
      "https://finance.google.com/finance/historical?q=MYL&startdate=Jan%201,%202014&output=csv\n",
      "https://finance.google.com/finance/historical?q=RMD&startdate=Jan%201,%202014&output=csv\n",
      "https://finance.google.com/finance/historical?q=LIVN&startdate=Jan%201,%202014&output=csv\n",
      "https://finance.google.com/finance/historical?q=DGX&startdate=Jan%201,%202014&output=csv\n",
      "https://finance.google.com/finance/historical?q=HCM&startdate=Jan%201,%202014&output=csv\n",
      "https://finance.google.com/finance/historical?q=AERI&startdate=Jan%201,%202014&output=csv\n",
      "https://finance.google.com/finance/historical?q=MDT&startdate=Jan%201,%202014&output=csv\n",
      "https://finance.google.com/finance/historical?q=HSIC&startdate=Jan%201,%202014&output=csv\n",
      "https://finance.google.com/finance/historical?q=LOXO&startdate=Jan%201,%202014&output=csv\n",
      "https://finance.google.com/finance/historical?q=QGEN&startdate=Jan%201,%202014&output=csv\n",
      "https://finance.google.com/finance/historical?q=CI&startdate=Jan%201,%202014&output=csv\n",
      "https://finance.google.com/finance/historical?q=CHE&startdate=Jan%201,%202014&output=csv\n",
      "https://finance.google.com/finance/historical?q=MD&startdate=Jan%201,%202014&output=csv\n",
      "https://finance.google.com/finance/historical?q=GILD&startdate=Jan%201,%202014&output=csv\n",
      "https://finance.google.com/finance/historical?q=SAGE&startdate=Jan%201,%202014&output=csv\n",
      "https://finance.google.com/finance/historical?q=SHPG&startdate=Jan%201,%202014&output=csv\n",
      "https://finance.google.com/finance/historical?q=RDY&startdate=Jan%201,%202014&output=csv\n",
      "https://finance.google.com/finance/historical?q=FMS&startdate=Jan%201,%202014&output=csv\n",
      "https://finance.google.com/finance/historical?q=NKTR&startdate=Jan%201,%202014&output=csv\n",
      "https://finance.google.com/finance/historical?q=INSM&startdate=Jan%201,%202014&output=csv\n",
      "https://finance.google.com/finance/historical?q=CORT&startdate=Jan%201,%202014&output=csv\n",
      "https://finance.google.com/finance/historical?q=ICLR&startdate=Jan%201,%202014&output=csv\n",
      "https://finance.google.com/finance/historical?q=SRPT&startdate=Jan%201,%202014&output=csv\n",
      "https://finance.google.com/finance/historical?q=ESRX&startdate=Jan%201,%202014&output=csv\n",
      "https://finance.google.com/finance/historical?q=MRK&startdate=Jan%201,%202014&output=csv\n",
      "https://finance.google.com/finance/historical?q=UNH&startdate=Jan%201,%202014&output=csv\n",
      "https://finance.google.com/finance/historical?q=NVS&startdate=Jan%201,%202014&output=csv\n",
      "https://finance.google.com/finance/historical?q=EXAS&startdate=Jan%201,%202014&output=csv\n",
      "https://finance.google.com/finance/historical?q=HRC&startdate=Jan%201,%202014&output=csv\n",
      "https://finance.google.com/finance/historical?q=SEM&startdate=Jan%201,%202014&output=csv\n",
      "https://finance.google.com/finance/historical?q=ZTS&startdate=Jan%201,%202014&output=csv\n",
      "https://finance.google.com/finance/historical?q=ACHC&startdate=Jan%201,%202014&output=csv\n",
      "https://finance.google.com/finance/historical?q=PBYI&startdate=Jan%201,%202014&output=csv\n",
      "https://finance.google.com/finance/historical?q=WMGI&startdate=Jan%201,%202014&output=csv\n",
      "https://finance.google.com/finance/historical?q=INCR&startdate=Jan%201,%202014&output=csv\n",
      "https://finance.google.com/finance/historical?q=CELG&startdate=Jan%201,%202014&output=csv\n",
      "https://finance.google.com/finance/historical?q=FGEN&startdate=Jan%201,%202014&output=csv\n",
      "https://finance.google.com/finance/historical?q=FOLD&startdate=Jan%201,%202014&output=csv\n",
      "https://finance.google.com/finance/historical?q=SYK&startdate=Jan%201,%202014&output=csv\n",
      "https://finance.google.com/finance/historical?q=PODD&startdate=Jan%201,%202014&output=csv\n",
      "https://finance.google.com/finance/historical?q=GMED&startdate=Jan%201,%202014&output=csv\n",
      "https://finance.google.com/finance/historical?q=GRFS&startdate=Jan%201,%202014&output=csv\n",
      "https://finance.google.com/finance/historical?q=XRAY&startdate=Jan%201,%202014&output=csv\n",
      "https://finance.google.com/finance/historical?q=SNN&startdate=Jan%201,%202014&output=csv\n",
      "https://finance.google.com/finance/historical?q=CAH&startdate=Jan%201,%202014&output=csv\n",
      "https://finance.google.com/finance/historical?q=SUPN&startdate=Jan%201,%202014&output=csv\n",
      "https://finance.google.com/finance/historical?q=JNJ&startdate=Jan%201,%202014&output=csv\n",
      "https://finance.google.com/finance/historical?q=PRTA&startdate=Jan%201,%202014&output=csv\n",
      "https://finance.google.com/finance/historical?q=ONCE&startdate=Jan%201,%202014&output=csv\n",
      "https://finance.google.com/finance/historical?q=SNY&startdate=Jan%201,%202014&output=csv\n",
      "https://finance.google.com/finance/historical?q=AET&startdate=Jan%201,%202014&output=csv\n",
      "https://finance.google.com/finance/historical?q=AZN&startdate=Jan%201,%202014&output=csv\n",
      "https://finance.google.com/finance/historical?q=IONS&startdate=Jan%201,%202014&output=csv\n",
      "https://finance.google.com/finance/historical?q=HYH&startdate=Jan%201,%202014&output=csv\n",
      "https://finance.google.com/finance/historical?q=MDCO&startdate=Jan%201,%202014&output=csv\n",
      "https://finance.google.com/finance/historical?q=CMD&startdate=Jan%201,%202014&output=csv\n",
      "Error\n",
      "https://finance.google.com/finance/historical?q=HZNP&startdate=Jan%201,%202014&output=csv\n"
     ]
    },
    {
     "name": "stdout",
     "output_type": "stream",
     "text": [
      "https://finance.google.com/finance/historical?q=CVS&startdate=Jan%201,%202014&output=csv\n",
      "https://finance.google.com/finance/historical?q=BAX&startdate=Jan%201,%202014&output=csv\n",
      "https://finance.google.com/finance/historical?q=RARE&startdate=Jan%201,%202014&output=csv\n",
      "https://finance.google.com/finance/historical?q=REGN&startdate=Jan%201,%202014&output=csv\n",
      "https://finance.google.com/finance/historical?q=BMRN&startdate=Jan%201,%202014&output=csv\n",
      "https://finance.google.com/finance/historical?q=PDCO&startdate=Jan%201,%202014&output=csv\n",
      "https://finance.google.com/finance/historical?q=WBA&startdate=Jan%201,%202014&output=csv\n",
      "https://finance.google.com/finance/historical?q=ACAD&startdate=Jan%201,%202014&output=csv\n",
      "https://finance.google.com/finance/historical?q=ICUI&startdate=Jan%201,%202014&output=csv\n",
      "https://finance.google.com/finance/historical?q=MCK&startdate=Jan%201,%202014&output=csv\n",
      "Error\n",
      "https://finance.google.com/finance/historical?q=CRL&startdate=Jan%201,%202014&output=csv\n",
      "https://finance.google.com/finance/historical?q=NEOG&startdate=Jan%201,%202014&output=csv\n",
      "https://finance.google.com/finance/historical?q=CBPO&startdate=Jan%201,%202014&output=csv\n",
      "https://finance.google.com/finance/historical?q=MMM&startdate=Jan%201,%202014&output=csv\n",
      "https://finance.google.com/finance/historical?q=LLY&startdate=Jan%201,%202014&output=csv\n",
      "https://finance.google.com/finance/historical?q=BIVV&startdate=Jan%201,%202014&output=csv\n",
      "https://finance.google.com/finance/historical?q=PTLA&startdate=Jan%201,%202014&output=csv\n",
      "https://finance.google.com/finance/historical?q=CTLT&startdate=Jan%201,%202014&output=csv\n",
      "https://finance.google.com/finance/historical?q=HUM&startdate=Jan%201,%202014&output=csv\n",
      "https://finance.google.com/finance/historical?q=BIIB&startdate=Jan%201,%202014&output=csv\n",
      "https://finance.google.com/finance/historical?q=LH&startdate=Jan%201,%202014&output=csv\n",
      "https://finance.google.com/finance/historical?q=EXEL&startdate=Jan%201,%202014&output=csv\n",
      "https://finance.google.com/finance/historical?q=TEVA&startdate=Jan%201,%202014&output=csv\n",
      "https://finance.google.com/finance/historical?q=MNK&startdate=Jan%201,%202014&output=csv\n",
      "https://finance.google.com/finance/historical?q=ALNY&startdate=Jan%201,%202014&output=csv\n",
      "https://finance.google.com/finance/historical?q=COO&startdate=Jan%201,%202014&output=csv\n",
      "https://finance.google.com/finance/historical?q=SGEN&startdate=Jan%201,%202014&output=csv\n",
      "https://finance.google.com/finance/historical?q=DXCM&startdate=Jan%201,%202014&output=csv\n",
      "https://finance.google.com/finance/historical?q=BMY&startdate=Jan%201,%202014&output=csv\n",
      "https://finance.google.com/finance/historical?q=MYGN&startdate=Jan%201,%202014&output=csv\n",
      "https://finance.google.com/finance/historical?q=ARRY&startdate=Jan%201,%202014&output=csv\n",
      "https://finance.google.com/finance/historical?q=TFX&startdate=Jan%201,%202014&output=csv\n",
      "https://finance.google.com/finance/historical?q=STE&startdate=Jan%201,%202014&output=csv\n",
      "https://finance.google.com/finance/historical?q=AKRX&startdate=Jan%201,%202014&output=csv\n",
      "https://finance.google.com/finance/historical?q=ABC&startdate=Jan%201,%202014&output=csv\n",
      "https://finance.google.com/finance/historical?q=ANTX&startdate=Jan%201,%202014&output=csv\n",
      "https://finance.google.com/finance/historical?q=HOLX&startdate=Jan%201,%202014&output=csv\n",
      "https://finance.google.com/finance/historical?q=MMSI&startdate=Jan%201,%202014&output=csv\n",
      "https://finance.google.com/finance/historical?q=JAZZ&startdate=Jan%201,%202014&output=csv\n",
      "https://finance.google.com/finance/historical?q=UTHR&startdate=Jan%201,%202014&output=csv\n",
      "https://finance.google.com/finance/historical?q=HAE&startdate=Jan%201,%202014&output=csv\n",
      "https://finance.google.com/finance/historical?q=ANTM&startdate=Jan%201,%202014&output=csv\n",
      "https://finance.google.com/finance/historical?q=ABBV&startdate=Jan%201,%202014&output=csv\n",
      "https://finance.google.com/finance/historical?q=HCA&startdate=Jan%201,%202014&output=csv\n",
      "https://finance.google.com/finance/historical?q=ABT&startdate=Jan%201,%202014&output=csv\n",
      "Error\n",
      "https://finance.google.com/finance/historical?q=ALXN&startdate=Jan%201,%202014&output=csv\n",
      "https://finance.google.com/finance/historical?q=WCG&startdate=Jan%201,%202014&output=csv\n",
      "https://finance.google.com/finance/historical?q=PRAH&startdate=Jan%201,%202014&output=csv\n",
      "https://finance.google.com/finance/historical?q=TSRO&startdate=Jan%201,%202014&output=csv\n",
      "https://finance.google.com/finance/historical?q=DBVT&startdate=Jan%201,%202014&output=csv\n",
      "https://finance.google.com/finance/historical?q=EW&startdate=Jan%201,%202014&output=csv\n",
      "https://finance.google.com/finance/historical?q=ISRG&startdate=Jan%201,%202014&output=csv\n",
      "https://finance.google.com/finance/historical?q=HALO&startdate=Jan%201,%202014&output=csv\n",
      "Error\n",
      "https://finance.google.com/finance/historical?q=IRWD&startdate=Jan%201,%202014&output=csv\n",
      "https://finance.google.com/finance/historical?q=Q&startdate=Jan%201,%202014&output=csv\n",
      "https://finance.google.com/finance/historical?q=BDX&startdate=Jan%201,%202014&output=csv\n",
      "https://finance.google.com/finance/historical?q=PFE&startdate=Jan%201,%202014&output=csv\n",
      "https://finance.google.com/finance/historical?q=BGNE&startdate=Jan%201,%202014&output=csv\n",
      "https://finance.google.com/finance/historical?q=PRGO&startdate=Jan%201,%202014&output=csv\n",
      "https://finance.google.com/finance/historical?q=HLS&startdate=Jan%201,%202014&output=csv\n",
      "https://finance.google.com/finance/historical?q=GLPG&startdate=Jan%201,%202014&output=csv\n",
      "https://finance.google.com/finance/historical?q=MSA&startdate=Jan%201,%202014&output=csv\n",
      "https://finance.google.com/finance/historical?q=MOH&startdate=Jan%201,%202014&output=csv\n",
      "https://finance.google.com/finance/historical?q=ALGN&startdate=Jan%201,%202014&output=csv\n",
      "https://finance.google.com/finance/historical?q=UHS&startdate=Jan%201,%202014&output=csv\n",
      "https://finance.google.com/finance/historical?q=INCY&startdate=Jan%201,%202014&output=csv\n",
      "https://finance.google.com/finance/historical?q=NVO&startdate=Jan%201,%202014&output=csv\n",
      "https://finance.google.com/finance/historical?q=HLF&startdate=Jan%201,%202014&output=csv\n",
      "https://finance.google.com/finance/historical?q=OPK&startdate=Jan%201,%202014&output=csv\n",
      "https://finance.google.com/finance/historical?q=LGND&startdate=Jan%201,%202014&output=csv\n",
      "https://finance.google.com/finance/historical?q=ABMD&startdate=Jan%201,%202014&output=csv\n",
      "https://finance.google.com/finance/historical?q=CNC&startdate=Jan%201,%202014&output=csv\n"
     ]
    }
   ],
   "source": [
    "all_stocks_sector(sector)"
   ]
  },
  {
   "cell_type": "markdown",
   "metadata": {},
   "source": [
    "<h3> News Model </h3>"
   ]
  },
  {
   "cell_type": "code",
   "execution_count": 3,
   "metadata": {
    "collapsed": true
   },
   "outputs": [],
   "source": [
    "import pandas as pd\n",
    "\n",
    "def load_news(sector):\n",
    "    tickers = load_tickers(sector)\n",
    "    df_news = pd.DataFrame()\n",
    "    for t in tickers:\n",
    "        df_news = df_news.append(pd.read_csv(os.path.join(\"..\", \"data\", sector, \"news\", t + \".csv\"), header=1))\n",
    "    return df_news"
   ]
  },
  {
   "cell_type": "code",
   "execution_count": 9,
   "metadata": {
    "collapsed": true
   },
   "outputs": [],
   "source": [
    "df_news = load_news(sector)\n",
    "df_news = df_news.drop_duplicates(['TITLE'])"
   ]
  },
  {
   "cell_type": "code",
   "execution_count": 10,
   "metadata": {},
   "outputs": [
    {
     "data": {
      "text/plain": [
       "array([ 'Allergan stock has fallen ~15.4% in 3Q17. It has fallen 9.8% year-to-date as of October 20, 2017.',\n",
       "       'Another analyst is weighing in on the growing guesswork regarding the likelihood that Allergan (AGN) could be heading for a break up.  Allergan is appealing the decision, though the outcome of such a move is far from certain.  Meanwhile, several analysts warn that a cheaper-priced generic version of Restasis could hit the U.S. market next year, eroding sales of Allergan\\xe2\\x80\\x99s second-biggest selling drug and creating a $1.5 billion revenue hole.',\n",
       "       'Johnson amp Johnson JNJ kicked off third quarter earnings season for the pharmaceutical sector on a strong note with the company beating on both earnings and revenues While focus remained on J amp J s strong earnings results companies like Allergan AGN were also in the news regarding',\n",
       "       \"San Diego-based Imprimis' therapy will cost 99 cents for a month's supply, with refills starting at $79 a month and the company will start selling prescriptions on Nov. 1, Imprimis' Chief Executive Mark Baum told Reuters.  Allergan recently stirred controversy after striking a deal with the Native American Saint Regis Mohawk tribe that would shield certain patents on Restasis.\",\n",
       "       'Top Health Care StocksTop Health Care Stocks JNJ 1 0 JNJ 1 0 PFE 1 4 PFE 1 4 ABT 0 2 ABT 0 2 MRK 0 50 MRK 0 50 AMGN 1 2 AMGN 1 2 Health care stocks trended higher today with the NYSE Health Care Index NYP advancing almost 0 6 while shares of health care companies in the S amp'], dtype=object)"
      ]
     },
     "execution_count": 10,
     "metadata": {},
     "output_type": "execute_result"
    }
   ],
   "source": [
    "df_news.SUMMARY.head().values"
   ]
  },
  {
   "cell_type": "code",
   "execution_count": 105,
   "metadata": {},
   "outputs": [
    {
     "data": {
      "text/plain": [
       "0     [allergan, stock, has, fallen, 15, 4, in, 3q17...\n",
       "2     [another, analyst, is, weighing, in, on, the, ...\n",
       "4     [johnson, amp, johnson, jnj, kicked, off, thir...\n",
       "8     [san, diego, based, imprimis, therapy, will, c...\n",
       "10    [top, health, care, stockstop, health, care, s...\n",
       "Name: SUMMARY, dtype: object"
      ]
     },
     "execution_count": 105,
     "metadata": {},
     "output_type": "execute_result"
    }
   ],
   "source": [
    "from nltk.tokenize import RegexpTokenizer\n",
    "\n",
    "tokenizer = RegexpTokenizer(r'[a-zA-Z]+')\n",
    "df_news['SUMMARY_NEW'] = df_news.SUMMARY.map(lambda x: tokenizer.tokenize(str(x).lower()))\n",
    "df_news.SUMMARY_NEW.head()"
   ]
  },
  {
   "cell_type": "code",
   "execution_count": 106,
   "metadata": {},
   "outputs": [
    {
     "data": {
      "text/plain": [
       "0     [allergan, stock, fallen, 15, 4, 3q17, fallen,...\n",
       "2     [another, analyst, weighing, growing, guesswor...\n",
       "4     [johnson, amp, johnson, jnj, kicked, third, qu...\n",
       "8     [san, diego, based, imprimis, therapy, will, c...\n",
       "10    [top, health, care, stockstop, health, care, s...\n",
       "Name: SUMMARY_STOPPED, dtype: object"
      ]
     },
     "execution_count": 106,
     "metadata": {},
     "output_type": "execute_result"
    }
   ],
   "source": [
    "from stop_words import get_stop_words\n",
    "en_stop = [str(x) for x in get_stop_words('en')]\n",
    "\n",
    "df_news['SUMMARY_STOPPED'] = df_news.SUMMARY_NEW.map(lambda x: [w for w in x if not w in en_stop])\n",
    "df_news.SUMMARY_STOPPED.head()"
   ]
  },
  {
   "cell_type": "code",
   "execution_count": 107,
   "metadata": {},
   "outputs": [
    {
     "data": {
      "text/plain": [
       "0     [allergan, stock, fallen, 15, 4, 3q17, fallen,...\n",
       "2     [anoth, analyst, weigh, grow, guesswork, regar...\n",
       "4     [johnson, amp, johnson, jnj, kick, third, quar...\n",
       "8     [san, diego, base, imprimi, therapi, will, cos...\n",
       "10    [top, health, care, stockstop, health, care, s...\n",
       "Name: SUMMARY_STEMMED, dtype: object"
      ]
     },
     "execution_count": 107,
     "metadata": {},
     "output_type": "execute_result"
    }
   ],
   "source": [
    "from nltk.stem.porter import PorterStemmer\n",
    "p_stemmer = PorterStemmer()\n",
    "\n",
    "def stem_word(w):\n",
    "    try:\n",
    "        return p_stemmer.stem(w.decode('utf-8'))\n",
    "    except:\n",
    "        return None    \n",
    "\n",
    "df_news['SUMMARY_STEMMED'] = df_news.SUMMARY_STOPPED.map(lambda x: [stem_word(w) for w in x])\n",
    "df_news.SUMMARY_STEMMED.head()"
   ]
  },
  {
   "cell_type": "code",
   "execution_count": 108,
   "metadata": {},
   "outputs": [
    {
     "data": {
      "text/plain": [
       "0     [allergan, stock, fallen, 15, 4, 3q17, fallen,...\n",
       "2     [anoth, analyst, weigh, grow, guesswork, regar...\n",
       "4     [johnson, amp, johnson, jnj, kick, third, quar...\n",
       "8     [san, diego, base, imprimi, therapi, will, cos...\n",
       "10    [top, health, care, stockstop, health, care, s...\n",
       "Name: SUMMARY_STEMMED, dtype: object"
      ]
     },
     "execution_count": 108,
     "metadata": {},
     "output_type": "execute_result"
    }
   ],
   "source": [
    "from gensim import corpora, models\n",
    "\n",
    "df_news.SUMMARY_CLEAN = df_news.SUMMARY_STEMMED.map(lambda x: [w for w in x if w is not None])\n",
    "dictionary = corpora.Dictionary(df_news.SUMMARY_CLEAN)\n",
    "df_news.SUMMARY_CLEAN.head()"
   ]
  },
  {
   "cell_type": "code",
   "execution_count": 109,
   "metadata": {},
   "outputs": [
    {
     "data": {
      "text/plain": [
       "[(0, 1),\n",
       " (1, 1),\n",
       " (2, 1),\n",
       " (3, 1),\n",
       " (4, 1),\n",
       " (5, 1),\n",
       " (6, 1),\n",
       " (7, 1),\n",
       " (8, 1),\n",
       " (9, 1),\n",
       " (10, 2),\n",
       " (11, 1),\n",
       " (12, 1)]"
      ]
     },
     "execution_count": 109,
     "metadata": {},
     "output_type": "execute_result"
    }
   ],
   "source": [
    "corpus = [dictionary.doc2bow(x) for x in df_news.SUMMARY_CLEAN.values]\n",
    "corpus[0]"
   ]
  },
  {
   "cell_type": "code",
   "execution_count": 110,
   "metadata": {},
   "outputs": [
    {
     "name": "stdout",
     "output_type": "stream",
     "text": [
      "[(0, u'0.025*\"s\" + 0.025*\"stock\" + 0.016*\"share\" + 0.015*\"trade\" + 0.010*\"market\"'), (1, u'0.018*\"announc\" + 0.017*\"s\" + 0.014*\"compani\" + 0.012*\"today\" + 0.011*\"inc\"'), (2, u'0.028*\"inc\" + 0.021*\"earn\" + 0.017*\"2016\" + 0.017*\"report\" + 0.015*\"2017\"')]\n"
     ]
    }
   ],
   "source": [
    "ldamodel = models.ldamodel.LdaModel(corpus, num_topics=3, id2word = dictionary, passes=20)\n",
    "print(ldamodel.print_topics(num_topics=3, num_words=5))"
   ]
  },
  {
   "cell_type": "code",
   "execution_count": 113,
   "metadata": {},
   "outputs": [
    {
     "data": {
      "text/plain": [
       "[(0,\n",
       "  u'0.025*\"s\" + 0.025*\"stock\" + 0.016*\"share\" + 0.015*\"trade\" + 0.010*\"market\" + 0.008*\"week\" + 0.008*\"one\" + 0.007*\"investor\" + 0.006*\"nasdaq\" + 0.006*\"price\" + 0.006*\"amp\" + 0.006*\"etf\" + 0.005*\"day\" + 0.005*\"new\" + 0.005*\"year\" + 0.005*\"p\" + 0.005*\"symbol\" + 0.005*\"today\" + 0.005*\"index\" + 0.005*\"buy\" + 0.005*\"look\" + 0.005*\"chang\" + 0.004*\"inc\" + 0.004*\"1\" + 0.004*\"160\" + 0.004*\"2\" + 0.004*\"gain\" + 0.004*\"compani\" + 0.004*\"among\" + 0.004*\"contract\"'),\n",
       " (1,\n",
       "  u'0.018*\"announc\" + 0.017*\"s\" + 0.014*\"compani\" + 0.012*\"today\" + 0.011*\"inc\" + 0.010*\"health\" + 0.009*\"2017\" + 0.009*\"2016\" + 0.009*\"drug\" + 0.008*\"noodl\" + 0.008*\"new\" + 0.008*\"busi\" + 0.007*\"will\" + 0.007*\"prnewswir\" + 0.005*\"pharmaceut\" + 0.005*\"nyse\" + 0.005*\"global\" + 0.005*\"plan\" + 0.005*\"wire\" + 0.005*\"centen\" + 0.004*\"said\" + 0.004*\"newswir\" + 0.004*\"patient\" + 0.004*\"insur\" + 0.004*\"u\" + 0.004*\"develop\" + 0.004*\"corpor\" + 0.004*\"york\" + 0.004*\"nasdaq\" + 0.004*\"provid\"'),\n",
       " (2,\n",
       "  u'0.028*\"inc\" + 0.021*\"earn\" + 0.017*\"2016\" + 0.017*\"report\" + 0.015*\"2017\" + 0.015*\"us\" + 0.013*\"quarter\" + 0.010*\"b\" + 0.010*\"share\" + 0.010*\"read\" + 0.010*\"etf\" + 0.009*\"health\" + 0.009*\"analysi\" + 0.009*\"0\" + 0.009*\"result\" + 0.008*\"day\" + 0.008*\"5\" + 0.008*\"compani\" + 0.008*\"centen\" + 0.007*\"close\" + 0.007*\"move\" + 0.007*\"corp\" + 0.007*\"1\" + 0.007*\"s\" + 0.007*\"year\" + 0.007*\"indic\" + 0.007*\"exposur\" + 0.007*\"averag\" + 0.006*\"per\" + 0.006*\"financi\"')]"
      ]
     },
     "execution_count": 113,
     "metadata": {},
     "output_type": "execute_result"
    }
   ],
   "source": [
    "ldamodel.print_topics(num_topics=10, num_words=30)"
   ]
  },
  {
   "cell_type": "markdown",
   "metadata": {},
   "source": [
    "<h3> Sentiment Analysis </h3>"
   ]
  },
  {
   "cell_type": "code",
   "execution_count": 117,
   "metadata": {},
   "outputs": [
    {
     "data": {
      "text/plain": [
       "0     {u'Polarity': 0.0, u'Positive': 0, u'Negative'...\n",
       "2     {u'Polarity': -0.999999666667, u'Positive': 0,...\n",
       "4     {u'Polarity': 0.0, u'Positive': 0, u'Negative'...\n",
       "8     {u'Polarity': -0.999999000001, u'Positive': 0,...\n",
       "10    {u'Polarity': 0.999999000001, u'Positive': 1, ...\n",
       "Name: SUMMARY, dtype: object"
      ]
     },
     "execution_count": 117,
     "metadata": {},
     "output_type": "execute_result"
    }
   ],
   "source": [
    "import pysentiment as ps\n",
    "lm = ps.LM()\n",
    "\n",
    "df_news.SUMMARY_SCORES = df_news.SUMMARY.map(lambda x: lm.get_score(lm.tokenize(str(x))))\n",
    "df_news.SUMMARY_SCORES.head()"
   ]
  },
  {
   "cell_type": "code",
   "execution_count": 118,
   "metadata": {},
   "outputs": [
    {
     "data": {
      "text/plain": [
       "array([{'Polarity': 0.0, 'Positive': 0, 'Negative': 0, 'Subjectivity': 0.0},\n",
       "       {'Polarity': -0.9999996666667778, 'Positive': 0, 'Negative': 3, 'Subjectivity': 0.09090908815427007},\n",
       "       {'Polarity': 0.0, 'Positive': 0, 'Negative': 0, 'Subjectivity': 0.0},\n",
       "       {'Polarity': -0.9999990000010001, 'Positive': 0, 'Negative': 1, 'Subjectivity': 0.032258063475546335},\n",
       "       {'Polarity': 0.9999990000010001, 'Positive': 1, 'Negative': 0, 'Subjectivity': 0.031249999023437534}], dtype=object)"
      ]
     },
     "execution_count": 118,
     "metadata": {},
     "output_type": "execute_result"
    }
   ],
   "source": [
    "df_news.SUMMARY_SCORES.head().values"
   ]
  }
 ],
 "metadata": {
  "kernelspec": {
   "display_name": "Python 3",
   "language": "python",
   "name": "python3"
  },
  "language_info": {
   "codemirror_mode": {
    "name": "ipython",
    "version": 3
   },
   "file_extension": ".py",
   "mimetype": "text/x-python",
   "name": "python",
   "nbconvert_exporter": "python",
   "pygments_lexer": "ipython3",
   "version": "3.6.3"
  }
 },
 "nbformat": 4,
 "nbformat_minor": 2
}
