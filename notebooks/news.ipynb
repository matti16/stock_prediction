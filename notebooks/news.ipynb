{
 "cells": [
  {
   "cell_type": "code",
   "execution_count": 32,
   "metadata": {
    "collapsed": true
   },
   "outputs": [],
   "source": [
    "import urllib2\n",
    "import base64\n",
    "import os\n",
    "import pandas as pd"
   ]
  },
  {
   "cell_type": "code",
   "execution_count": 4,
   "metadata": {
    "collapsed": true
   },
   "outputs": [],
   "source": [
    "USER = \"89d61164743acfb8d2bb7aa8e6582000\"\n",
    "PASSWORD = \"cf4b0dedd3ee1ece4e6fa80d09d029c1\"\n",
    "NEWS_URL = \"https://api.intrinio.com/news.csv?ticker={}\""
   ]
  },
  {
   "cell_type": "code",
   "execution_count": 49,
   "metadata": {
    "collapsed": true
   },
   "outputs": [],
   "source": [
    "def api_request(ticker, base_url=NEWS_URL, user=USER, password=PASSWORD):\n",
    "    auth = base64.b64encode(\"{}:{}\".format(user, password))\n",
    "    endpoint = base_url.format(ticker)\n",
    "    req = urllib2.Request(endpoint, headers={'Authorization': 'Basic {}'.format(auth) })\n",
    "    response = urllib2.urlopen(req)\n",
    "    return response\n",
    "\n",
    "def response_to_file(response, filename):\n",
    "    with open(filename, \"w\") as f:\n",
    "        f.write(response.read())\n",
    "\n",
    "def load_tickers(sector, folder=os.path.join(\"..\", \"data\")):\n",
    "    sub_folder = os.path.join(folder, sector, \"companies\")\n",
    "    result = set()\n",
    "    for f in os.listdir(sub_folder):\n",
    "        result = result | set(pd.read_csv(os.path.join(sub_folder, f))['Symbol'].unique())\n",
    "    return result"
   ]
  },
  {
   "cell_type": "code",
   "execution_count": 52,
   "metadata": {},
   "outputs": [],
   "source": [
    "def get_news(ticker, sector):\n",
    "    response = api_request(ticker)\n",
    "    response_to_file(response, os.path.join(\"..\", \"data\", sector, \"news\", ticker + \".csv\"))\n",
    "    \n",
    "def all_news_sector(sector):\n",
    "    sector = sector.lower()\n",
    "    tickers = load_tickers(sector)\n",
    "    map(lambda x: get_news(x, sector), tickers)"
   ]
  },
  {
   "cell_type": "code",
   "execution_count": 54,
   "metadata": {
    "scrolled": true
   },
   "outputs": [],
   "source": [
    "sector = \"healthcare\"\n",
    "all_news_sector(sector)"
   ]
  },
  {
   "cell_type": "code",
   "execution_count": null,
   "metadata": {
    "collapsed": true
   },
   "outputs": [],
   "source": []
  }
 ],
 "metadata": {
  "kernelspec": {
   "display_name": "Python 2",
   "language": "python",
   "name": "python2"
  },
  "language_info": {
   "codemirror_mode": {
    "name": "ipython",
    "version": 2
   },
   "file_extension": ".py",
   "mimetype": "text/x-python",
   "name": "python",
   "nbconvert_exporter": "python",
   "pygments_lexer": "ipython2",
   "version": "2.7.13"
  }
 },
 "nbformat": 4,
 "nbformat_minor": 2
}
